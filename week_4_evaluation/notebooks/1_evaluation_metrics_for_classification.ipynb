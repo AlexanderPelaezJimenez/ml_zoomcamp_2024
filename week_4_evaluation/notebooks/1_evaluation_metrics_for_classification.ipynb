{
 "cells": [
  {
   "cell_type": "code",
   "execution_count": 176,
   "metadata": {},
   "outputs": [],
   "source": [
    "import warnings\n",
    "warnings.filterwarnings(\"ignore\")"
   ]
  },
  {
   "cell_type": "code",
   "execution_count": 100,
   "metadata": {},
   "outputs": [],
   "source": [
    "import pandas as pd\n",
    "import numpy as np\n",
    "\n",
    "import matplotlib.pyplot as plt\n",
    "\n",
    "from IPython.display import display"
   ]
  },
  {
   "cell_type": "code",
   "execution_count": 101,
   "metadata": {},
   "outputs": [],
   "source": [
    "from sklearn.model_selection import train_test_split\n",
    "from sklearn.metrics import mutual_info_score\n",
    "from sklearn.feature_extraction import DictVectorizer\n",
    "from sklearn.linear_model import LogisticRegression"
   ]
  },
  {
   "cell_type": "code",
   "execution_count": 102,
   "metadata": {},
   "outputs": [],
   "source": [
    "from sklearn.metrics import accuracy_score\n",
    "from sklearn.metrics import roc_curve\n",
    "from sklearn.metrics import auc\n",
    "from sklearn.metrics import roc_auc_score\n",
    "import random\n",
    "from sklearn.model_selection import KFold"
   ]
  },
  {
   "cell_type": "code",
   "execution_count": 168,
   "metadata": {},
   "outputs": [],
   "source": [
    "from tqdm.auto import tqdm"
   ]
  },
  {
   "cell_type": "code",
   "execution_count": 103,
   "metadata": {},
   "outputs": [],
   "source": [
    "df = pd.read_parquet('../data/data_prep.parquet')"
   ]
  },
  {
   "cell_type": "code",
   "execution_count": 104,
   "metadata": {},
   "outputs": [],
   "source": [
    "df_train = pd.read_parquet('../data/df_train.parquet')\n",
    "df_val = pd.read_parquet('../data/df_val.parquet')\n",
    "df_test = pd.read_parquet('../data/df_test.parquet')\n",
    "df_full_train = pd.read_parquet('../data/df_full_train.parquet')"
   ]
  },
  {
   "cell_type": "code",
   "execution_count": 105,
   "metadata": {},
   "outputs": [],
   "source": [
    "y_train = np.loadtxt('../data/y_train')\n",
    "y_val = np.loadtxt('../data/y_val')\n",
    "y_test = np.loadtxt('../data/y_test')\n",
    "\n",
    "X_train = np.loadtxt('../data/X_train')\n",
    "X_val = np.loadtxt('../data/X_val')"
   ]
  },
  {
   "cell_type": "code",
   "execution_count": 106,
   "metadata": {},
   "outputs": [],
   "source": [
    "numerical = ['tenure', 'monthlycharges', 'totalcharges']\n",
    "\n",
    "categorical = [\n",
    "    'gender',\n",
    "    'seniorcitizen',\n",
    "    'partner',\n",
    "    'dependents',\n",
    "    'phoneservice',\n",
    "    'multiplelines',\n",
    "    'internetservice',\n",
    "    'onlinesecurity',\n",
    "    'onlinebackup',\n",
    "    'deviceprotection',\n",
    "    'techsupport',\n",
    "    'streamingtv',\n",
    "    'streamingmovies',\n",
    "    'contract',\n",
    "    'paperlessbilling',\n",
    "    'paymentmethod',\n",
    "]"
   ]
  },
  {
   "cell_type": "markdown",
   "metadata": {},
   "source": [
    "### Logistic Regression"
   ]
  },
  {
   "cell_type": "code",
   "execution_count": 107,
   "metadata": {},
   "outputs": [
    {
     "name": "stderr",
     "output_type": "stream",
     "text": [
      "/Users/alexander.pelaez/Library/Python/3.9/lib/python/site-packages/sklearn/linear_model/_logistic.py:469: ConvergenceWarning: lbfgs failed to converge (status=1):\n",
      "STOP: TOTAL NO. of ITERATIONS REACHED LIMIT.\n",
      "\n",
      "Increase the number of iterations (max_iter) or scale the data as shown in:\n",
      "    https://scikit-learn.org/stable/modules/preprocessing.html\n",
      "Please also refer to the documentation for alternative solver options:\n",
      "    https://scikit-learn.org/stable/modules/linear_model.html#logistic-regression\n",
      "  n_iter_i = _check_optimize_result(\n"
     ]
    },
    {
     "data": {
      "text/html": [
       "<style>#sk-container-id-2 {\n",
       "  /* Definition of color scheme common for light and dark mode */\n",
       "  --sklearn-color-text: black;\n",
       "  --sklearn-color-line: gray;\n",
       "  /* Definition of color scheme for unfitted estimators */\n",
       "  --sklearn-color-unfitted-level-0: #fff5e6;\n",
       "  --sklearn-color-unfitted-level-1: #f6e4d2;\n",
       "  --sklearn-color-unfitted-level-2: #ffe0b3;\n",
       "  --sklearn-color-unfitted-level-3: chocolate;\n",
       "  /* Definition of color scheme for fitted estimators */\n",
       "  --sklearn-color-fitted-level-0: #f0f8ff;\n",
       "  --sklearn-color-fitted-level-1: #d4ebff;\n",
       "  --sklearn-color-fitted-level-2: #b3dbfd;\n",
       "  --sklearn-color-fitted-level-3: cornflowerblue;\n",
       "\n",
       "  /* Specific color for light theme */\n",
       "  --sklearn-color-text-on-default-background: var(--sg-text-color, var(--theme-code-foreground, var(--jp-content-font-color1, black)));\n",
       "  --sklearn-color-background: var(--sg-background-color, var(--theme-background, var(--jp-layout-color0, white)));\n",
       "  --sklearn-color-border-box: var(--sg-text-color, var(--theme-code-foreground, var(--jp-content-font-color1, black)));\n",
       "  --sklearn-color-icon: #696969;\n",
       "\n",
       "  @media (prefers-color-scheme: dark) {\n",
       "    /* Redefinition of color scheme for dark theme */\n",
       "    --sklearn-color-text-on-default-background: var(--sg-text-color, var(--theme-code-foreground, var(--jp-content-font-color1, white)));\n",
       "    --sklearn-color-background: var(--sg-background-color, var(--theme-background, var(--jp-layout-color0, #111)));\n",
       "    --sklearn-color-border-box: var(--sg-text-color, var(--theme-code-foreground, var(--jp-content-font-color1, white)));\n",
       "    --sklearn-color-icon: #878787;\n",
       "  }\n",
       "}\n",
       "\n",
       "#sk-container-id-2 {\n",
       "  color: var(--sklearn-color-text);\n",
       "}\n",
       "\n",
       "#sk-container-id-2 pre {\n",
       "  padding: 0;\n",
       "}\n",
       "\n",
       "#sk-container-id-2 input.sk-hidden--visually {\n",
       "  border: 0;\n",
       "  clip: rect(1px 1px 1px 1px);\n",
       "  clip: rect(1px, 1px, 1px, 1px);\n",
       "  height: 1px;\n",
       "  margin: -1px;\n",
       "  overflow: hidden;\n",
       "  padding: 0;\n",
       "  position: absolute;\n",
       "  width: 1px;\n",
       "}\n",
       "\n",
       "#sk-container-id-2 div.sk-dashed-wrapped {\n",
       "  border: 1px dashed var(--sklearn-color-line);\n",
       "  margin: 0 0.4em 0.5em 0.4em;\n",
       "  box-sizing: border-box;\n",
       "  padding-bottom: 0.4em;\n",
       "  background-color: var(--sklearn-color-background);\n",
       "}\n",
       "\n",
       "#sk-container-id-2 div.sk-container {\n",
       "  /* jupyter's `normalize.less` sets `[hidden] { display: none; }`\n",
       "     but bootstrap.min.css set `[hidden] { display: none !important; }`\n",
       "     so we also need the `!important` here to be able to override the\n",
       "     default hidden behavior on the sphinx rendered scikit-learn.org.\n",
       "     See: https://github.com/scikit-learn/scikit-learn/issues/21755 */\n",
       "  display: inline-block !important;\n",
       "  position: relative;\n",
       "}\n",
       "\n",
       "#sk-container-id-2 div.sk-text-repr-fallback {\n",
       "  display: none;\n",
       "}\n",
       "\n",
       "div.sk-parallel-item,\n",
       "div.sk-serial,\n",
       "div.sk-item {\n",
       "  /* draw centered vertical line to link estimators */\n",
       "  background-image: linear-gradient(var(--sklearn-color-text-on-default-background), var(--sklearn-color-text-on-default-background));\n",
       "  background-size: 2px 100%;\n",
       "  background-repeat: no-repeat;\n",
       "  background-position: center center;\n",
       "}\n",
       "\n",
       "/* Parallel-specific style estimator block */\n",
       "\n",
       "#sk-container-id-2 div.sk-parallel-item::after {\n",
       "  content: \"\";\n",
       "  width: 100%;\n",
       "  border-bottom: 2px solid var(--sklearn-color-text-on-default-background);\n",
       "  flex-grow: 1;\n",
       "}\n",
       "\n",
       "#sk-container-id-2 div.sk-parallel {\n",
       "  display: flex;\n",
       "  align-items: stretch;\n",
       "  justify-content: center;\n",
       "  background-color: var(--sklearn-color-background);\n",
       "  position: relative;\n",
       "}\n",
       "\n",
       "#sk-container-id-2 div.sk-parallel-item {\n",
       "  display: flex;\n",
       "  flex-direction: column;\n",
       "}\n",
       "\n",
       "#sk-container-id-2 div.sk-parallel-item:first-child::after {\n",
       "  align-self: flex-end;\n",
       "  width: 50%;\n",
       "}\n",
       "\n",
       "#sk-container-id-2 div.sk-parallel-item:last-child::after {\n",
       "  align-self: flex-start;\n",
       "  width: 50%;\n",
       "}\n",
       "\n",
       "#sk-container-id-2 div.sk-parallel-item:only-child::after {\n",
       "  width: 0;\n",
       "}\n",
       "\n",
       "/* Serial-specific style estimator block */\n",
       "\n",
       "#sk-container-id-2 div.sk-serial {\n",
       "  display: flex;\n",
       "  flex-direction: column;\n",
       "  align-items: center;\n",
       "  background-color: var(--sklearn-color-background);\n",
       "  padding-right: 1em;\n",
       "  padding-left: 1em;\n",
       "}\n",
       "\n",
       "\n",
       "/* Toggleable style: style used for estimator/Pipeline/ColumnTransformer box that is\n",
       "clickable and can be expanded/collapsed.\n",
       "- Pipeline and ColumnTransformer use this feature and define the default style\n",
       "- Estimators will overwrite some part of the style using the `sk-estimator` class\n",
       "*/\n",
       "\n",
       "/* Pipeline and ColumnTransformer style (default) */\n",
       "\n",
       "#sk-container-id-2 div.sk-toggleable {\n",
       "  /* Default theme specific background. It is overwritten whether we have a\n",
       "  specific estimator or a Pipeline/ColumnTransformer */\n",
       "  background-color: var(--sklearn-color-background);\n",
       "}\n",
       "\n",
       "/* Toggleable label */\n",
       "#sk-container-id-2 label.sk-toggleable__label {\n",
       "  cursor: pointer;\n",
       "  display: block;\n",
       "  width: 100%;\n",
       "  margin-bottom: 0;\n",
       "  padding: 0.5em;\n",
       "  box-sizing: border-box;\n",
       "  text-align: center;\n",
       "}\n",
       "\n",
       "#sk-container-id-2 label.sk-toggleable__label-arrow:before {\n",
       "  /* Arrow on the left of the label */\n",
       "  content: \"▸\";\n",
       "  float: left;\n",
       "  margin-right: 0.25em;\n",
       "  color: var(--sklearn-color-icon);\n",
       "}\n",
       "\n",
       "#sk-container-id-2 label.sk-toggleable__label-arrow:hover:before {\n",
       "  color: var(--sklearn-color-text);\n",
       "}\n",
       "\n",
       "/* Toggleable content - dropdown */\n",
       "\n",
       "#sk-container-id-2 div.sk-toggleable__content {\n",
       "  max-height: 0;\n",
       "  max-width: 0;\n",
       "  overflow: hidden;\n",
       "  text-align: left;\n",
       "  /* unfitted */\n",
       "  background-color: var(--sklearn-color-unfitted-level-0);\n",
       "}\n",
       "\n",
       "#sk-container-id-2 div.sk-toggleable__content.fitted {\n",
       "  /* fitted */\n",
       "  background-color: var(--sklearn-color-fitted-level-0);\n",
       "}\n",
       "\n",
       "#sk-container-id-2 div.sk-toggleable__content pre {\n",
       "  margin: 0.2em;\n",
       "  border-radius: 0.25em;\n",
       "  color: var(--sklearn-color-text);\n",
       "  /* unfitted */\n",
       "  background-color: var(--sklearn-color-unfitted-level-0);\n",
       "}\n",
       "\n",
       "#sk-container-id-2 div.sk-toggleable__content.fitted pre {\n",
       "  /* unfitted */\n",
       "  background-color: var(--sklearn-color-fitted-level-0);\n",
       "}\n",
       "\n",
       "#sk-container-id-2 input.sk-toggleable__control:checked~div.sk-toggleable__content {\n",
       "  /* Expand drop-down */\n",
       "  max-height: 200px;\n",
       "  max-width: 100%;\n",
       "  overflow: auto;\n",
       "}\n",
       "\n",
       "#sk-container-id-2 input.sk-toggleable__control:checked~label.sk-toggleable__label-arrow:before {\n",
       "  content: \"▾\";\n",
       "}\n",
       "\n",
       "/* Pipeline/ColumnTransformer-specific style */\n",
       "\n",
       "#sk-container-id-2 div.sk-label input.sk-toggleable__control:checked~label.sk-toggleable__label {\n",
       "  color: var(--sklearn-color-text);\n",
       "  background-color: var(--sklearn-color-unfitted-level-2);\n",
       "}\n",
       "\n",
       "#sk-container-id-2 div.sk-label.fitted input.sk-toggleable__control:checked~label.sk-toggleable__label {\n",
       "  background-color: var(--sklearn-color-fitted-level-2);\n",
       "}\n",
       "\n",
       "/* Estimator-specific style */\n",
       "\n",
       "/* Colorize estimator box */\n",
       "#sk-container-id-2 div.sk-estimator input.sk-toggleable__control:checked~label.sk-toggleable__label {\n",
       "  /* unfitted */\n",
       "  background-color: var(--sklearn-color-unfitted-level-2);\n",
       "}\n",
       "\n",
       "#sk-container-id-2 div.sk-estimator.fitted input.sk-toggleable__control:checked~label.sk-toggleable__label {\n",
       "  /* fitted */\n",
       "  background-color: var(--sklearn-color-fitted-level-2);\n",
       "}\n",
       "\n",
       "#sk-container-id-2 div.sk-label label.sk-toggleable__label,\n",
       "#sk-container-id-2 div.sk-label label {\n",
       "  /* The background is the default theme color */\n",
       "  color: var(--sklearn-color-text-on-default-background);\n",
       "}\n",
       "\n",
       "/* On hover, darken the color of the background */\n",
       "#sk-container-id-2 div.sk-label:hover label.sk-toggleable__label {\n",
       "  color: var(--sklearn-color-text);\n",
       "  background-color: var(--sklearn-color-unfitted-level-2);\n",
       "}\n",
       "\n",
       "/* Label box, darken color on hover, fitted */\n",
       "#sk-container-id-2 div.sk-label.fitted:hover label.sk-toggleable__label.fitted {\n",
       "  color: var(--sklearn-color-text);\n",
       "  background-color: var(--sklearn-color-fitted-level-2);\n",
       "}\n",
       "\n",
       "/* Estimator label */\n",
       "\n",
       "#sk-container-id-2 div.sk-label label {\n",
       "  font-family: monospace;\n",
       "  font-weight: bold;\n",
       "  display: inline-block;\n",
       "  line-height: 1.2em;\n",
       "}\n",
       "\n",
       "#sk-container-id-2 div.sk-label-container {\n",
       "  text-align: center;\n",
       "}\n",
       "\n",
       "/* Estimator-specific */\n",
       "#sk-container-id-2 div.sk-estimator {\n",
       "  font-family: monospace;\n",
       "  border: 1px dotted var(--sklearn-color-border-box);\n",
       "  border-radius: 0.25em;\n",
       "  box-sizing: border-box;\n",
       "  margin-bottom: 0.5em;\n",
       "  /* unfitted */\n",
       "  background-color: var(--sklearn-color-unfitted-level-0);\n",
       "}\n",
       "\n",
       "#sk-container-id-2 div.sk-estimator.fitted {\n",
       "  /* fitted */\n",
       "  background-color: var(--sklearn-color-fitted-level-0);\n",
       "}\n",
       "\n",
       "/* on hover */\n",
       "#sk-container-id-2 div.sk-estimator:hover {\n",
       "  /* unfitted */\n",
       "  background-color: var(--sklearn-color-unfitted-level-2);\n",
       "}\n",
       "\n",
       "#sk-container-id-2 div.sk-estimator.fitted:hover {\n",
       "  /* fitted */\n",
       "  background-color: var(--sklearn-color-fitted-level-2);\n",
       "}\n",
       "\n",
       "/* Specification for estimator info (e.g. \"i\" and \"?\") */\n",
       "\n",
       "/* Common style for \"i\" and \"?\" */\n",
       "\n",
       ".sk-estimator-doc-link,\n",
       "a:link.sk-estimator-doc-link,\n",
       "a:visited.sk-estimator-doc-link {\n",
       "  float: right;\n",
       "  font-size: smaller;\n",
       "  line-height: 1em;\n",
       "  font-family: monospace;\n",
       "  background-color: var(--sklearn-color-background);\n",
       "  border-radius: 1em;\n",
       "  height: 1em;\n",
       "  width: 1em;\n",
       "  text-decoration: none !important;\n",
       "  margin-left: 1ex;\n",
       "  /* unfitted */\n",
       "  border: var(--sklearn-color-unfitted-level-1) 1pt solid;\n",
       "  color: var(--sklearn-color-unfitted-level-1);\n",
       "}\n",
       "\n",
       ".sk-estimator-doc-link.fitted,\n",
       "a:link.sk-estimator-doc-link.fitted,\n",
       "a:visited.sk-estimator-doc-link.fitted {\n",
       "  /* fitted */\n",
       "  border: var(--sklearn-color-fitted-level-1) 1pt solid;\n",
       "  color: var(--sklearn-color-fitted-level-1);\n",
       "}\n",
       "\n",
       "/* On hover */\n",
       "div.sk-estimator:hover .sk-estimator-doc-link:hover,\n",
       ".sk-estimator-doc-link:hover,\n",
       "div.sk-label-container:hover .sk-estimator-doc-link:hover,\n",
       ".sk-estimator-doc-link:hover {\n",
       "  /* unfitted */\n",
       "  background-color: var(--sklearn-color-unfitted-level-3);\n",
       "  color: var(--sklearn-color-background);\n",
       "  text-decoration: none;\n",
       "}\n",
       "\n",
       "div.sk-estimator.fitted:hover .sk-estimator-doc-link.fitted:hover,\n",
       ".sk-estimator-doc-link.fitted:hover,\n",
       "div.sk-label-container:hover .sk-estimator-doc-link.fitted:hover,\n",
       ".sk-estimator-doc-link.fitted:hover {\n",
       "  /* fitted */\n",
       "  background-color: var(--sklearn-color-fitted-level-3);\n",
       "  color: var(--sklearn-color-background);\n",
       "  text-decoration: none;\n",
       "}\n",
       "\n",
       "/* Span, style for the box shown on hovering the info icon */\n",
       ".sk-estimator-doc-link span {\n",
       "  display: none;\n",
       "  z-index: 9999;\n",
       "  position: relative;\n",
       "  font-weight: normal;\n",
       "  right: .2ex;\n",
       "  padding: .5ex;\n",
       "  margin: .5ex;\n",
       "  width: min-content;\n",
       "  min-width: 20ex;\n",
       "  max-width: 50ex;\n",
       "  color: var(--sklearn-color-text);\n",
       "  box-shadow: 2pt 2pt 4pt #999;\n",
       "  /* unfitted */\n",
       "  background: var(--sklearn-color-unfitted-level-0);\n",
       "  border: .5pt solid var(--sklearn-color-unfitted-level-3);\n",
       "}\n",
       "\n",
       ".sk-estimator-doc-link.fitted span {\n",
       "  /* fitted */\n",
       "  background: var(--sklearn-color-fitted-level-0);\n",
       "  border: var(--sklearn-color-fitted-level-3);\n",
       "}\n",
       "\n",
       ".sk-estimator-doc-link:hover span {\n",
       "  display: block;\n",
       "}\n",
       "\n",
       "/* \"?\"-specific style due to the `<a>` HTML tag */\n",
       "\n",
       "#sk-container-id-2 a.estimator_doc_link {\n",
       "  float: right;\n",
       "  font-size: 1rem;\n",
       "  line-height: 1em;\n",
       "  font-family: monospace;\n",
       "  background-color: var(--sklearn-color-background);\n",
       "  border-radius: 1rem;\n",
       "  height: 1rem;\n",
       "  width: 1rem;\n",
       "  text-decoration: none;\n",
       "  /* unfitted */\n",
       "  color: var(--sklearn-color-unfitted-level-1);\n",
       "  border: var(--sklearn-color-unfitted-level-1) 1pt solid;\n",
       "}\n",
       "\n",
       "#sk-container-id-2 a.estimator_doc_link.fitted {\n",
       "  /* fitted */\n",
       "  border: var(--sklearn-color-fitted-level-1) 1pt solid;\n",
       "  color: var(--sklearn-color-fitted-level-1);\n",
       "}\n",
       "\n",
       "/* On hover */\n",
       "#sk-container-id-2 a.estimator_doc_link:hover {\n",
       "  /* unfitted */\n",
       "  background-color: var(--sklearn-color-unfitted-level-3);\n",
       "  color: var(--sklearn-color-background);\n",
       "  text-decoration: none;\n",
       "}\n",
       "\n",
       "#sk-container-id-2 a.estimator_doc_link.fitted:hover {\n",
       "  /* fitted */\n",
       "  background-color: var(--sklearn-color-fitted-level-3);\n",
       "}\n",
       "</style><div id=\"sk-container-id-2\" class=\"sk-top-container\"><div class=\"sk-text-repr-fallback\"><pre>LogisticRegression()</pre><b>In a Jupyter environment, please rerun this cell to show the HTML representation or trust the notebook. <br />On GitHub, the HTML representation is unable to render, please try loading this page with nbviewer.org.</b></div><div class=\"sk-container\" hidden><div class=\"sk-item\"><div class=\"sk-estimator fitted sk-toggleable\"><input class=\"sk-toggleable__control sk-hidden--visually\" id=\"sk-estimator-id-2\" type=\"checkbox\" checked><label for=\"sk-estimator-id-2\" class=\"sk-toggleable__label fitted sk-toggleable__label-arrow fitted\">&nbsp;&nbsp;LogisticRegression<a class=\"sk-estimator-doc-link fitted\" rel=\"noreferrer\" target=\"_blank\" href=\"https://scikit-learn.org/1.4/modules/generated/sklearn.linear_model.LogisticRegression.html\">?<span>Documentation for LogisticRegression</span></a><span class=\"sk-estimator-doc-link fitted\">i<span>Fitted</span></span></label><div class=\"sk-toggleable__content fitted\"><pre>LogisticRegression()</pre></div> </div></div></div></div>"
      ],
      "text/plain": [
       "LogisticRegression()"
      ]
     },
     "execution_count": 107,
     "metadata": {},
     "output_type": "execute_result"
    }
   ],
   "source": [
    "model = LogisticRegression()\n",
    "model.fit(X_train, y_train)"
   ]
  },
  {
   "cell_type": "code",
   "execution_count": 108,
   "metadata": {},
   "outputs": [
    {
     "data": {
      "text/plain": [
       "array([0.00898196, 0.20435623, 0.21216057, ..., 0.13625449, 0.79988621,\n",
       "       0.83752419])"
      ]
     },
     "execution_count": 108,
     "metadata": {},
     "output_type": "execute_result"
    }
   ],
   "source": [
    "y_pred = model.predict_proba(X_val)[:, 1]\n",
    "y_pred"
   ]
  },
  {
   "cell_type": "code",
   "execution_count": 109,
   "metadata": {},
   "outputs": [],
   "source": [
    "churn_decision = (y_pred >= 0.5)"
   ]
  },
  {
   "cell_type": "code",
   "execution_count": 110,
   "metadata": {},
   "outputs": [
    {
     "data": {
      "text/plain": [
       "0.8026969481902059"
      ]
     },
     "execution_count": 110,
     "metadata": {},
     "output_type": "execute_result"
    }
   ],
   "source": [
    "(y_val == churn_decision).mean()"
   ]
  },
  {
   "cell_type": "code",
   "execution_count": 111,
   "metadata": {},
   "outputs": [
    {
     "data": {
      "text/plain": [
       "1131"
      ]
     },
     "execution_count": 111,
     "metadata": {},
     "output_type": "execute_result"
    }
   ],
   "source": [
    "# Number of correct predictions\n",
    "\n",
    "(y_val == churn_decision).sum()"
   ]
  },
  {
   "cell_type": "code",
   "execution_count": 112,
   "metadata": {},
   "outputs": [
    {
     "data": {
      "text/plain": [
       "0.8026969481902059"
      ]
     },
     "execution_count": 112,
     "metadata": {},
     "output_type": "execute_result"
    }
   ],
   "source": [
    "# Accuracy: Number of correct predictions / Total Validation Set\n",
    "\n",
    "((y_val == churn_decision).sum()) / len(y_val)"
   ]
  },
  {
   "cell_type": "markdown",
   "metadata": {},
   "source": [
    "### Changing the Threshold of 0.5"
   ]
  },
  {
   "cell_type": "code",
   "execution_count": 113,
   "metadata": {},
   "outputs": [
    {
     "data": {
      "text/plain": [
       "array([0.  , 0.05, 0.1 , 0.15, 0.2 , 0.25, 0.3 , 0.35, 0.4 , 0.45, 0.5 ,\n",
       "       0.55, 0.6 , 0.65, 0.7 , 0.75, 0.8 , 0.85, 0.9 , 0.95, 1.  ])"
      ]
     },
     "execution_count": 113,
     "metadata": {},
     "output_type": "execute_result"
    }
   ],
   "source": [
    "thresholds = np.linspace(0, 1, 21)\n",
    "thresholds"
   ]
  },
  {
   "cell_type": "code",
   "execution_count": 114,
   "metadata": {},
   "outputs": [
    {
     "name": "stdout",
     "output_type": "stream",
     "text": [
      "0.00 0.274\n",
      "0.05 0.509\n",
      "0.10 0.591\n",
      "0.15 0.666\n",
      "0.20 0.710\n",
      "0.25 0.738\n",
      "0.30 0.760\n",
      "0.35 0.772\n",
      "0.40 0.785\n",
      "0.45 0.793\n",
      "0.50 0.803\n",
      "0.55 0.801\n",
      "0.60 0.795\n",
      "0.65 0.786\n",
      "0.70 0.766\n",
      "0.75 0.744\n",
      "0.80 0.734\n",
      "0.85 0.726\n",
      "0.90 0.726\n",
      "0.95 0.726\n",
      "1.00 0.726\n"
     ]
    }
   ],
   "source": [
    "scores = []\n",
    "\n",
    "for t in thresholds:\n",
    "    churn_decision = (y_pred >= t)\n",
    "    score = (y_val == churn_decision).mean()\n",
    "    print('%.2f %.3f' % (t, score))\n",
    "    scores.append(score)"
   ]
  },
  {
   "cell_type": "markdown",
   "metadata": {},
   "source": [
    "#### Plot Accuracy with different thresholds"
   ]
  },
  {
   "cell_type": "code",
   "execution_count": 115,
   "metadata": {},
   "outputs": [
    {
     "data": {
      "image/png": "[encoded data removed]",
      "text/plain": [
       "<Figure size 640x480 with 1 Axes>"
      ]
     },
     "metadata": {},
     "output_type": "display_data"
    }
   ],
   "source": [
    "plt.plot(thresholds, scores)\n",
    "plt.show()"
   ]
  },
  {
   "cell_type": "markdown",
   "metadata": {},
   "source": [
    "### Ussing sklearn accuracy score"
   ]
  },
  {
   "cell_type": "code",
   "execution_count": 116,
   "metadata": {},
   "outputs": [
    {
     "data": {
      "text/plain": [
       "0.8026969481902059"
      ]
     },
     "execution_count": 116,
     "metadata": {},
     "output_type": "execute_result"
    }
   ],
   "source": [
    "(y_val, y_pred >=0.5)"
   ]
  },
  {
   "cell_type": "code",
   "execution_count": 117,
   "metadata": {},
   "outputs": [
    {
     "name": "stdout",
     "output_type": "stream",
     "text": [
      "0.00 0.274\n",
      "0.05 0.509\n",
      "0.10 0.591\n",
      "0.15 0.666\n",
      "0.20 0.710\n",
      "0.25 0.738\n",
      "0.30 0.760\n",
      "0.35 0.772\n",
      "0.40 0.785\n",
      "0.45 0.793\n",
      "0.50 0.803\n",
      "0.55 0.801\n",
      "0.60 0.795\n",
      "0.65 0.786\n",
      "0.70 0.766\n",
      "0.75 0.744\n",
      "0.80 0.734\n",
      "0.85 0.726\n",
      "0.90 0.726\n",
      "0.95 0.726\n",
      "1.00 0.726\n"
     ]
    }
   ],
   "source": [
    "scores = []\n",
    "\n",
    "for t in thresholds:\n",
    "    score = accuracy_score(y_val, y_pred >= t)\n",
    "    print('%.2f %.3f' % (t, score))\n",
    "    scores.append(score)"
   ]
  },
  {
   "cell_type": "markdown",
   "metadata": {},
   "source": [
    "Accuracy no es la mejor medida en este caso, pues un modelo con threshold de 1 tiene un accuracy alto (72.6%). Esto debido a que hay un desbalanceo de clase, donde solo el 27% de los usuarios ha hecho churn. Es decir, dado que el accuracy mide la cantidad de predicciones correctas, independiente de la clase, el hecho de tener una clase mayoritaria va a llevar a que el modelo genere predicciones correctas en esa clase mayoritaria. Debido a que el caso de uso implica predecir correctamente la clase minoritaria, accuracy no es la medida apropiada."
   ]
  },
  {
   "cell_type": "code",
   "execution_count": null,
   "metadata": {},
   "outputs": [],
   "source": []
  },
  {
   "cell_type": "markdown",
   "metadata": {},
   "source": [
    "## Confusion Table"
   ]
  },
  {
   "cell_type": "markdown",
   "metadata": {},
   "source": [
    "La tabla de confusión es una forma de medir los distintos tipos de errores y decisiones correctas que pueden tomar los clasificadores binarios. Teniendo en cuenta esta información, es posible evaluar la calidad del modelo mediante distintas estrategias.\n",
    "\n",
    "Cuando se trata de predicciones de un modelo de clasificación binaria, cada predicción se clasifica en una de las cuatro categorías siguientes: \n",
    "* La predicción es que el cliente se dará de baja. Esto se conoce como la **clase Positiva** \n",
    "    * Y el cliente realmente abandonó - Conocido como Verdadero Positivo (TP) \n",
    "    * Pero el cliente realmente no abandonó - Conocido como Falso Positivo (FP) \n",
    "\n",
    "* La predicción es que el cliente NO abandonará - Esto se conoce como la **clase Negativa** \n",
    "    * El cliente no abandonó - Verdadero Negativo (TN) \n",
    "    * El cliente abandonó - Falso Negativo (FN)\n",
    "\n",
    "<img src=\"../images/confusion_matrix.png\">"
   ]
  },
  {
   "cell_type": "code",
   "execution_count": 118,
   "metadata": {},
   "outputs": [],
   "source": [
    "actual_positive = (y_val == 1)\n",
    "actual_negative = (y_val == 0)"
   ]
  },
  {
   "cell_type": "code",
   "execution_count": 119,
   "metadata": {},
   "outputs": [],
   "source": [
    "t = 0.5\n",
    "\n",
    "predict_positive = (y_pred >= t)\n",
    "predict_negative = (y_pred < t)"
   ]
  },
  {
   "cell_type": "code",
   "execution_count": 120,
   "metadata": {},
   "outputs": [
    {
     "name": "stdout",
     "output_type": "stream",
     "text": [
      "True Positive: 210\n",
      "True Negative: 921\n"
     ]
    }
   ],
   "source": [
    "true_positive = (predict_positive & actual_positive).sum()\n",
    "true_negative = (predict_negative & actual_negative).sum()\n",
    "\n",
    "print('True Positive:', true_positive)\n",
    "print('True Negative:', true_negative)"
   ]
  },
  {
   "cell_type": "code",
   "execution_count": 121,
   "metadata": {},
   "outputs": [
    {
     "name": "stdout",
     "output_type": "stream",
     "text": [
      "False Positive: 102\n",
      "False Negative: 176\n"
     ]
    }
   ],
   "source": [
    "false_positive = (predict_positive & actual_negative).sum()\n",
    "false_negative = (predict_negative & actual_positive).sum()\n",
    "\n",
    "print('False Positive:', false_positive)\n",
    "print('False Negative:', false_negative)"
   ]
  },
  {
   "cell_type": "code",
   "execution_count": 122,
   "metadata": {},
   "outputs": [
    {
     "name": "stdout",
     "output_type": "stream",
     "text": [
      "[[921 102]\n",
      " [176 210]]\n"
     ]
    }
   ],
   "source": [
    "# Confusion matrix using numpy\n",
    "\n",
    "confusion_matrix = np.array([\n",
    "    [true_negative, false_positive],\n",
    "    [false_negative, true_positive]\n",
    "])\n",
    "\n",
    "print(confusion_matrix)"
   ]
  },
  {
   "cell_type": "code",
   "execution_count": 123,
   "metadata": {},
   "outputs": [
    {
     "data": {
      "text/plain": [
       "array([[0.65, 0.07],\n",
       "       [0.12, 0.15]])"
      ]
     },
     "execution_count": 123,
     "metadata": {},
     "output_type": "execute_result"
    }
   ],
   "source": [
    "# Confusion matrix %\n",
    "\n",
    "(confusion_matrix / confusion_matrix.sum()).round(2)"
   ]
  },
  {
   "cell_type": "code",
   "execution_count": null,
   "metadata": {},
   "outputs": [],
   "source": []
  },
  {
   "cell_type": "markdown",
   "metadata": {},
   "source": [
    "## Precision and Recall"
   ]
  },
  {
   "cell_type": "markdown",
   "metadata": {},
   "source": [
    "<img src=\"../images/classification_metrics.png\">"
   ]
  },
  {
   "cell_type": "markdown",
   "metadata": {},
   "source": [
    "### Precision: La precisión nos indica la fracción de predicciones positivas que son correctas. Sólo tiene en cuenta la clase positiva (TP y FP - segunda columna de la matriz de confusión)\n",
    "\n",
    "Fraction of **positive** predictions that are correct.\n",
    "\n",
    "Fracción de predicciones **positivas** que son correctas.\n",
    "\n",
    "$Precision = \\frac{TP}{TP + FP}$"
   ]
  },
  {
   "cell_type": "code",
   "execution_count": 124,
   "metadata": {},
   "outputs": [
    {
     "data": {
      "text/plain": [
       "0.673"
      ]
     },
     "execution_count": 124,
     "metadata": {},
     "output_type": "execute_result"
    }
   ],
   "source": [
    "precision = true_positive / (true_positive + false_positive)\n",
    "precision.round(3)"
   ]
  },
  {
   "cell_type": "markdown",
   "metadata": {},
   "source": [
    "### Recall: Mide la fracción de casos positivos identificados correctamente. Considera partes de las clases positivas y negativas (TP y FN - segunda fila de la tabla de confusión).\n",
    "\n",
    "Fraction of correctly identified **positive** examples.\n",
    "\n",
    "$Recall = \\frac{TP}{TP + FN}$"
   ]
  },
  {
   "cell_type": "code",
   "execution_count": 125,
   "metadata": {},
   "outputs": [
    {
     "data": {
      "text/plain": [
       "0.544"
      ]
     },
     "execution_count": 125,
     "metadata": {},
     "output_type": "execute_result"
    }
   ],
   "source": [
    "recall = true_positive / (true_positive + false_negative)\n",
    "recall.round(3)"
   ]
  },
  {
   "cell_type": "markdown",
   "metadata": {},
   "source": [
    "## ROC Curve"
   ]
  },
  {
   "cell_type": "markdown",
   "metadata": {},
   "source": [
    "ROC son las siglas de Receiver Operating Characteristic (Característica Operativa del Receptor), y esta idea se aplicó durante la Segunda Guerra Mundial para evaluar la potencia de los detectores de radio.\n",
    "\n",
    "Esta medida considera la Tasa de Falsos Positivos (FPR) y la Tasa de Verdaderos Positivos (TPR), que se derivan de los valores de la matriz de confusión. \n",
    "\n",
    "* **FPR** es la fracción de falsos positivos (FP) dividida por el número total de negativos (FP y TN - la primera fila de la matriz de confusión), y queremos minimizarla.\n",
    "$FPR = \\frac{FP}{FP + TN}$\n",
    "\n",
    "* **TPR o Recall** es la fracción de verdaderos positivos (TP) dividida por el número total de positivos (FN y TP - segunda fila de la tabla de confusión), y queremos maximizar esta métrica. \n",
    "$TPR = \\frac{TP}{TP + FN}$\n",
    "\n",
    "<img src=\"../images/TPR_FPR.png\">\n"
   ]
  },
  {
   "cell_type": "markdown",
   "metadata": {},
   "source": [
    "### TPR and FPR"
   ]
  },
  {
   "cell_type": "code",
   "execution_count": 126,
   "metadata": {},
   "outputs": [
    {
     "name": "stdout",
     "output_type": "stream",
     "text": [
      "TPR: 0.544\n",
      "FPR: 0.1\n"
     ]
    }
   ],
   "source": [
    "tpr = round(true_positive / (true_positive + false_negative),3)\n",
    "fpr = round(false_positive / (false_positive + true_negative),3)\n",
    "print('TPR:', tpr)\n",
    "print('FPR:',fpr)"
   ]
  },
  {
   "cell_type": "markdown",
   "metadata": {},
   "source": [
    "TPR y FPR se calculan usando un solo valor de threshold. ROC Curve evalua estas medidas en todos los valores posibles de threshold"
   ]
  },
  {
   "cell_type": "code",
   "execution_count": 127,
   "metadata": {},
   "outputs": [],
   "source": [
    "scores = []\n",
    "thresholds = np.linspace(0, 1, 101)\n",
    "\n",
    "for t in thresholds:\n",
    "    actual_positive = (y_val == 1)\n",
    "    actual_negative = (y_val == 0)\n",
    "    \n",
    "    predict_positive = (y_pred >= t)\n",
    "    predict_negative = (y_pred < t)\n",
    "    \n",
    "    tp = (predict_positive & actual_positive).sum()\n",
    "    tn = (predict_negative & actual_negative).sum()\n",
    "    \n",
    "    fp = (predict_positive & actual_negative).sum()\n",
    "    fn = (predict_negative & actual_positive).sum()\n",
    "    \n",
    "    scores.append((t, tp, fp, fn, tn))"
   ]
  },
  {
   "cell_type": "code",
   "execution_count": 128,
   "metadata": {},
   "outputs": [
    {
     "data": {
      "text/html": [
       "<div>\n",
       "<style scoped>\n",
       "    .dataframe tbody tr th:only-of-type {\n",
       "        vertical-align: middle;\n",
       "    }\n",
       "\n",
       "    .dataframe tbody tr th {\n",
       "        vertical-align: top;\n",
       "    }\n",
       "\n",
       "    .dataframe thead th {\n",
       "        text-align: right;\n",
       "    }\n",
       "</style>\n",
       "<table border=\"1\" class=\"dataframe\">\n",
       "  <thead>\n",
       "    <tr style=\"text-align: right;\">\n",
       "      <th></th>\n",
       "      <th>threshold</th>\n",
       "      <th>tp</th>\n",
       "      <th>fp</th>\n",
       "      <th>fn</th>\n",
       "      <th>tn</th>\n",
       "    </tr>\n",
       "  </thead>\n",
       "  <tbody>\n",
       "    <tr>\n",
       "      <th>0</th>\n",
       "      <td>0.00</td>\n",
       "      <td>386</td>\n",
       "      <td>1023</td>\n",
       "      <td>0</td>\n",
       "      <td>0</td>\n",
       "    </tr>\n",
       "    <tr>\n",
       "      <th>1</th>\n",
       "      <td>0.01</td>\n",
       "      <td>385</td>\n",
       "      <td>912</td>\n",
       "      <td>1</td>\n",
       "      <td>111</td>\n",
       "    </tr>\n",
       "    <tr>\n",
       "      <th>2</th>\n",
       "      <td>0.02</td>\n",
       "      <td>384</td>\n",
       "      <td>830</td>\n",
       "      <td>2</td>\n",
       "      <td>193</td>\n",
       "    </tr>\n",
       "    <tr>\n",
       "      <th>3</th>\n",
       "      <td>0.03</td>\n",
       "      <td>383</td>\n",
       "      <td>766</td>\n",
       "      <td>3</td>\n",
       "      <td>257</td>\n",
       "    </tr>\n",
       "    <tr>\n",
       "      <th>4</th>\n",
       "      <td>0.04</td>\n",
       "      <td>381</td>\n",
       "      <td>715</td>\n",
       "      <td>5</td>\n",
       "      <td>308</td>\n",
       "    </tr>\n",
       "    <tr>\n",
       "      <th>...</th>\n",
       "      <td>...</td>\n",
       "      <td>...</td>\n",
       "      <td>...</td>\n",
       "      <td>...</td>\n",
       "      <td>...</td>\n",
       "    </tr>\n",
       "    <tr>\n",
       "      <th>96</th>\n",
       "      <td>0.96</td>\n",
       "      <td>0</td>\n",
       "      <td>0</td>\n",
       "      <td>386</td>\n",
       "      <td>1023</td>\n",
       "    </tr>\n",
       "    <tr>\n",
       "      <th>97</th>\n",
       "      <td>0.97</td>\n",
       "      <td>0</td>\n",
       "      <td>0</td>\n",
       "      <td>386</td>\n",
       "      <td>1023</td>\n",
       "    </tr>\n",
       "    <tr>\n",
       "      <th>98</th>\n",
       "      <td>0.98</td>\n",
       "      <td>0</td>\n",
       "      <td>0</td>\n",
       "      <td>386</td>\n",
       "      <td>1023</td>\n",
       "    </tr>\n",
       "    <tr>\n",
       "      <th>99</th>\n",
       "      <td>0.99</td>\n",
       "      <td>0</td>\n",
       "      <td>0</td>\n",
       "      <td>386</td>\n",
       "      <td>1023</td>\n",
       "    </tr>\n",
       "    <tr>\n",
       "      <th>100</th>\n",
       "      <td>1.00</td>\n",
       "      <td>0</td>\n",
       "      <td>0</td>\n",
       "      <td>386</td>\n",
       "      <td>1023</td>\n",
       "    </tr>\n",
       "  </tbody>\n",
       "</table>\n",
       "<p>101 rows × 5 columns</p>\n",
       "</div>"
      ],
      "text/plain": [
       "     threshold   tp    fp   fn    tn\n",
       "0         0.00  386  1023    0     0\n",
       "1         0.01  385   912    1   111\n",
       "2         0.02  384   830    2   193\n",
       "3         0.03  383   766    3   257\n",
       "4         0.04  381   715    5   308\n",
       "..         ...  ...   ...  ...   ...\n",
       "96        0.96    0     0  386  1023\n",
       "97        0.97    0     0  386  1023\n",
       "98        0.98    0     0  386  1023\n",
       "99        0.99    0     0  386  1023\n",
       "100       1.00    0     0  386  1023\n",
       "\n",
       "[101 rows x 5 columns]"
      ]
     },
     "execution_count": 128,
     "metadata": {},
     "output_type": "execute_result"
    }
   ],
   "source": [
    "columns = ['threshold', 'tp', 'fp', 'fn', 'tn']\n",
    "df_scores = pd.DataFrame(scores, columns=columns)\n",
    "df_scores\n"
   ]
  },
  {
   "cell_type": "code",
   "execution_count": 129,
   "metadata": {},
   "outputs": [
    {
     "data": {
      "text/html": [
       "<div>\n",
       "<style scoped>\n",
       "    .dataframe tbody tr th:only-of-type {\n",
       "        vertical-align: middle;\n",
       "    }\n",
       "\n",
       "    .dataframe tbody tr th {\n",
       "        vertical-align: top;\n",
       "    }\n",
       "\n",
       "    .dataframe thead th {\n",
       "        text-align: right;\n",
       "    }\n",
       "</style>\n",
       "<table border=\"1\" class=\"dataframe\">\n",
       "  <thead>\n",
       "    <tr style=\"text-align: right;\">\n",
       "      <th></th>\n",
       "      <th>threshold</th>\n",
       "      <th>tp</th>\n",
       "      <th>fp</th>\n",
       "      <th>fn</th>\n",
       "      <th>tn</th>\n",
       "      <th>TPR</th>\n",
       "      <th>FPR</th>\n",
       "    </tr>\n",
       "  </thead>\n",
       "  <tbody>\n",
       "    <tr>\n",
       "      <th>0</th>\n",
       "      <td>0.00</td>\n",
       "      <td>386</td>\n",
       "      <td>1023</td>\n",
       "      <td>0</td>\n",
       "      <td>0</td>\n",
       "      <td>1.000000</td>\n",
       "      <td>1.000000</td>\n",
       "    </tr>\n",
       "    <tr>\n",
       "      <th>1</th>\n",
       "      <td>0.01</td>\n",
       "      <td>385</td>\n",
       "      <td>912</td>\n",
       "      <td>1</td>\n",
       "      <td>111</td>\n",
       "      <td>0.997409</td>\n",
       "      <td>0.891496</td>\n",
       "    </tr>\n",
       "    <tr>\n",
       "      <th>2</th>\n",
       "      <td>0.02</td>\n",
       "      <td>384</td>\n",
       "      <td>830</td>\n",
       "      <td>2</td>\n",
       "      <td>193</td>\n",
       "      <td>0.994819</td>\n",
       "      <td>0.811339</td>\n",
       "    </tr>\n",
       "    <tr>\n",
       "      <th>3</th>\n",
       "      <td>0.03</td>\n",
       "      <td>383</td>\n",
       "      <td>766</td>\n",
       "      <td>3</td>\n",
       "      <td>257</td>\n",
       "      <td>0.992228</td>\n",
       "      <td>0.748778</td>\n",
       "    </tr>\n",
       "    <tr>\n",
       "      <th>4</th>\n",
       "      <td>0.04</td>\n",
       "      <td>381</td>\n",
       "      <td>715</td>\n",
       "      <td>5</td>\n",
       "      <td>308</td>\n",
       "      <td>0.987047</td>\n",
       "      <td>0.698925</td>\n",
       "    </tr>\n",
       "    <tr>\n",
       "      <th>...</th>\n",
       "      <td>...</td>\n",
       "      <td>...</td>\n",
       "      <td>...</td>\n",
       "      <td>...</td>\n",
       "      <td>...</td>\n",
       "      <td>...</td>\n",
       "      <td>...</td>\n",
       "    </tr>\n",
       "    <tr>\n",
       "      <th>96</th>\n",
       "      <td>0.96</td>\n",
       "      <td>0</td>\n",
       "      <td>0</td>\n",
       "      <td>386</td>\n",
       "      <td>1023</td>\n",
       "      <td>0.000000</td>\n",
       "      <td>0.000000</td>\n",
       "    </tr>\n",
       "    <tr>\n",
       "      <th>97</th>\n",
       "      <td>0.97</td>\n",
       "      <td>0</td>\n",
       "      <td>0</td>\n",
       "      <td>386</td>\n",
       "      <td>1023</td>\n",
       "      <td>0.000000</td>\n",
       "      <td>0.000000</td>\n",
       "    </tr>\n",
       "    <tr>\n",
       "      <th>98</th>\n",
       "      <td>0.98</td>\n",
       "      <td>0</td>\n",
       "      <td>0</td>\n",
       "      <td>386</td>\n",
       "      <td>1023</td>\n",
       "      <td>0.000000</td>\n",
       "      <td>0.000000</td>\n",
       "    </tr>\n",
       "    <tr>\n",
       "      <th>99</th>\n",
       "      <td>0.99</td>\n",
       "      <td>0</td>\n",
       "      <td>0</td>\n",
       "      <td>386</td>\n",
       "      <td>1023</td>\n",
       "      <td>0.000000</td>\n",
       "      <td>0.000000</td>\n",
       "    </tr>\n",
       "    <tr>\n",
       "      <th>100</th>\n",
       "      <td>1.00</td>\n",
       "      <td>0</td>\n",
       "      <td>0</td>\n",
       "      <td>386</td>\n",
       "      <td>1023</td>\n",
       "      <td>0.000000</td>\n",
       "      <td>0.000000</td>\n",
       "    </tr>\n",
       "  </tbody>\n",
       "</table>\n",
       "<p>101 rows × 7 columns</p>\n",
       "</div>"
      ],
      "text/plain": [
       "     threshold   tp    fp   fn    tn       TPR       FPR\n",
       "0         0.00  386  1023    0     0  1.000000  1.000000\n",
       "1         0.01  385   912    1   111  0.997409  0.891496\n",
       "2         0.02  384   830    2   193  0.994819  0.811339\n",
       "3         0.03  383   766    3   257  0.992228  0.748778\n",
       "4         0.04  381   715    5   308  0.987047  0.698925\n",
       "..         ...  ...   ...  ...   ...       ...       ...\n",
       "96        0.96    0     0  386  1023  0.000000  0.000000\n",
       "97        0.97    0     0  386  1023  0.000000  0.000000\n",
       "98        0.98    0     0  386  1023  0.000000  0.000000\n",
       "99        0.99    0     0  386  1023  0.000000  0.000000\n",
       "100       1.00    0     0  386  1023  0.000000  0.000000\n",
       "\n",
       "[101 rows x 7 columns]"
      ]
     },
     "execution_count": 129,
     "metadata": {},
     "output_type": "execute_result"
    }
   ],
   "source": [
    "df_scores['TPR'] = df_scores.tp / (df_scores.tp + df_scores.fn)\n",
    "df_scores['FPR'] = df_scores.fp / (df_scores.fp + df_scores.tn)\n",
    "df_scores"
   ]
  },
  {
   "cell_type": "code",
   "execution_count": 130,
   "metadata": {},
   "outputs": [
    {
     "data": {
      "image/png": "[encoded data removed]",
      "text/plain": [
       "<Figure size 640x480 with 1 Axes>"
      ]
     },
     "metadata": {},
     "output_type": "display_data"
    }
   ],
   "source": [
    "plt.plot(df_scores.threshold, df_scores['TPR'], label = 'TPR')\n",
    "plt.plot(df_scores.threshold, df_scores['FPR'], label = 'FPR')\n",
    "plt.xlabel('Thresholds')\n",
    "plt.legend()\n",
    "plt.show()"
   ]
  },
  {
   "cell_type": "markdown",
   "metadata": {},
   "source": [
    "### Random Model"
   ]
  },
  {
   "cell_type": "code",
   "execution_count": 131,
   "metadata": {},
   "outputs": [],
   "source": [
    "np.random.seed(1)\n",
    "y_rand = np.random.uniform(0, 1, size=len(y_val))"
   ]
  },
  {
   "cell_type": "code",
   "execution_count": 132,
   "metadata": {},
   "outputs": [
    {
     "data": {
      "text/plain": [
       "array([0.417, 0.72 , 0.   , ..., 0.774, 0.334, 0.089])"
      ]
     },
     "execution_count": 132,
     "metadata": {},
     "output_type": "execute_result"
    }
   ],
   "source": [
    "y_rand.round(3)"
   ]
  },
  {
   "cell_type": "code",
   "execution_count": 133,
   "metadata": {},
   "outputs": [
    {
     "data": {
      "text/plain": [
       "0.5017743080198722"
      ]
     },
     "execution_count": 133,
     "metadata": {},
     "output_type": "execute_result"
    }
   ],
   "source": [
    "accuracy_random = ((y_rand >= 0.5) == y_val).mean()\n",
    "accuracy_random"
   ]
  },
  {
   "cell_type": "markdown",
   "metadata": {},
   "source": [
    "ROC Curve for Random Model"
   ]
  },
  {
   "cell_type": "code",
   "execution_count": 134,
   "metadata": {},
   "outputs": [],
   "source": [
    "def tpr_fpr_dataframe(y_val, y_pred):\n",
    "    scores = []\n",
    "\n",
    "    thresholds = np.linspace(0, 1, 101)\n",
    "\n",
    "    for t in thresholds:\n",
    "        actual_positive = (y_val == 1)\n",
    "        actual_negative = (y_val == 0)\n",
    "\n",
    "        predict_positive = (y_pred >= t)\n",
    "        predict_negative = (y_pred < t)\n",
    "\n",
    "        tp = (predict_positive & actual_positive).sum()\n",
    "        tn = (predict_negative & actual_negative).sum()\n",
    "\n",
    "        fp = (predict_positive & actual_negative).sum()\n",
    "        fn = (predict_negative & actual_positive).sum()\n",
    "\n",
    "        scores.append((t, tp, fp, fn, tn))\n",
    "\n",
    "    columns = ['threshold', 'tp', 'fp', 'fn', 'tn']\n",
    "    df_scores = pd.DataFrame(scores, columns=columns)\n",
    "\n",
    "    df_scores['tpr'] = df_scores.tp / (df_scores.tp + df_scores.fn)\n",
    "    df_scores['fpr'] = df_scores.fp / (df_scores.fp + df_scores.tn)\n",
    "    \n",
    "    return df_scores"
   ]
  },
  {
   "cell_type": "code",
   "execution_count": 135,
   "metadata": {},
   "outputs": [
    {
     "data": {
      "text/html": [
       "<div>\n",
       "<style scoped>\n",
       "    .dataframe tbody tr th:only-of-type {\n",
       "        vertical-align: middle;\n",
       "    }\n",
       "\n",
       "    .dataframe tbody tr th {\n",
       "        vertical-align: top;\n",
       "    }\n",
       "\n",
       "    .dataframe thead th {\n",
       "        text-align: right;\n",
       "    }\n",
       "</style>\n",
       "<table border=\"1\" class=\"dataframe\">\n",
       "  <thead>\n",
       "    <tr style=\"text-align: right;\">\n",
       "      <th></th>\n",
       "      <th>threshold</th>\n",
       "      <th>tp</th>\n",
       "      <th>fp</th>\n",
       "      <th>fn</th>\n",
       "      <th>tn</th>\n",
       "      <th>tpr</th>\n",
       "      <th>fpr</th>\n",
       "    </tr>\n",
       "  </thead>\n",
       "  <tbody>\n",
       "    <tr>\n",
       "      <th>0</th>\n",
       "      <td>0.0</td>\n",
       "      <td>386</td>\n",
       "      <td>1023</td>\n",
       "      <td>0</td>\n",
       "      <td>0</td>\n",
       "      <td>1.000000</td>\n",
       "      <td>1.000000</td>\n",
       "    </tr>\n",
       "    <tr>\n",
       "      <th>10</th>\n",
       "      <td>0.1</td>\n",
       "      <td>347</td>\n",
       "      <td>923</td>\n",
       "      <td>39</td>\n",
       "      <td>100</td>\n",
       "      <td>0.898964</td>\n",
       "      <td>0.902248</td>\n",
       "    </tr>\n",
       "    <tr>\n",
       "      <th>20</th>\n",
       "      <td>0.2</td>\n",
       "      <td>307</td>\n",
       "      <td>822</td>\n",
       "      <td>79</td>\n",
       "      <td>201</td>\n",
       "      <td>0.795337</td>\n",
       "      <td>0.803519</td>\n",
       "    </tr>\n",
       "    <tr>\n",
       "      <th>30</th>\n",
       "      <td>0.3</td>\n",
       "      <td>276</td>\n",
       "      <td>724</td>\n",
       "      <td>110</td>\n",
       "      <td>299</td>\n",
       "      <td>0.715026</td>\n",
       "      <td>0.707722</td>\n",
       "    </tr>\n",
       "    <tr>\n",
       "      <th>40</th>\n",
       "      <td>0.4</td>\n",
       "      <td>237</td>\n",
       "      <td>624</td>\n",
       "      <td>149</td>\n",
       "      <td>399</td>\n",
       "      <td>0.613990</td>\n",
       "      <td>0.609971</td>\n",
       "    </tr>\n",
       "    <tr>\n",
       "      <th>50</th>\n",
       "      <td>0.5</td>\n",
       "      <td>202</td>\n",
       "      <td>518</td>\n",
       "      <td>184</td>\n",
       "      <td>505</td>\n",
       "      <td>0.523316</td>\n",
       "      <td>0.506354</td>\n",
       "    </tr>\n",
       "    <tr>\n",
       "      <th>60</th>\n",
       "      <td>0.6</td>\n",
       "      <td>161</td>\n",
       "      <td>409</td>\n",
       "      <td>225</td>\n",
       "      <td>614</td>\n",
       "      <td>0.417098</td>\n",
       "      <td>0.399804</td>\n",
       "    </tr>\n",
       "    <tr>\n",
       "      <th>70</th>\n",
       "      <td>0.7</td>\n",
       "      <td>121</td>\n",
       "      <td>302</td>\n",
       "      <td>265</td>\n",
       "      <td>721</td>\n",
       "      <td>0.313472</td>\n",
       "      <td>0.295210</td>\n",
       "    </tr>\n",
       "    <tr>\n",
       "      <th>80</th>\n",
       "      <td>0.8</td>\n",
       "      <td>78</td>\n",
       "      <td>206</td>\n",
       "      <td>308</td>\n",
       "      <td>817</td>\n",
       "      <td>0.202073</td>\n",
       "      <td>0.201369</td>\n",
       "    </tr>\n",
       "    <tr>\n",
       "      <th>90</th>\n",
       "      <td>0.9</td>\n",
       "      <td>40</td>\n",
       "      <td>101</td>\n",
       "      <td>346</td>\n",
       "      <td>922</td>\n",
       "      <td>0.103627</td>\n",
       "      <td>0.098729</td>\n",
       "    </tr>\n",
       "    <tr>\n",
       "      <th>100</th>\n",
       "      <td>1.0</td>\n",
       "      <td>0</td>\n",
       "      <td>0</td>\n",
       "      <td>386</td>\n",
       "      <td>1023</td>\n",
       "      <td>0.000000</td>\n",
       "      <td>0.000000</td>\n",
       "    </tr>\n",
       "  </tbody>\n",
       "</table>\n",
       "</div>"
      ],
      "text/plain": [
       "     threshold   tp    fp   fn    tn       tpr       fpr\n",
       "0          0.0  386  1023    0     0  1.000000  1.000000\n",
       "10         0.1  347   923   39   100  0.898964  0.902248\n",
       "20         0.2  307   822   79   201  0.795337  0.803519\n",
       "30         0.3  276   724  110   299  0.715026  0.707722\n",
       "40         0.4  237   624  149   399  0.613990  0.609971\n",
       "50         0.5  202   518  184   505  0.523316  0.506354\n",
       "60         0.6  161   409  225   614  0.417098  0.399804\n",
       "70         0.7  121   302  265   721  0.313472  0.295210\n",
       "80         0.8   78   206  308   817  0.202073  0.201369\n",
       "90         0.9   40   101  346   922  0.103627  0.098729\n",
       "100        1.0    0     0  386  1023  0.000000  0.000000"
      ]
     },
     "execution_count": 135,
     "metadata": {},
     "output_type": "execute_result"
    }
   ],
   "source": [
    "df_random = tpr_fpr_dataframe(y_val, y_rand)\n",
    "df_random[::10]"
   ]
  },
  {
   "cell_type": "code",
   "execution_count": 136,
   "metadata": {},
   "outputs": [
    {
     "data": {
      "image/png": "[encoded data removed]",
      "text/plain": [
       "<Figure size 640x480 with 1 Axes>"
      ]
     },
     "metadata": {},
     "output_type": "display_data"
    }
   ],
   "source": [
    "plt.plot(df_random.threshold, df_random['tpr'], label = 'TPR')\n",
    "plt.plot(df_random.threshold, df_random['fpr'], label = 'FPR')\n",
    "plt.xlabel('Thresholds')\n",
    "plt.legend()\n",
    "plt.show()"
   ]
  },
  {
   "cell_type": "markdown",
   "metadata": {},
   "source": [
    "## Ideal Model"
   ]
  },
  {
   "cell_type": "code",
   "execution_count": 137,
   "metadata": {},
   "outputs": [
    {
     "data": {
      "text/plain": [
       "(1023, 386)"
      ]
     },
     "execution_count": 137,
     "metadata": {},
     "output_type": "execute_result"
    }
   ],
   "source": [
    "num_neg = (y_val == 0).sum()\n",
    "num_pos = (y_val == 1).sum()\n",
    "num_neg, num_pos"
   ]
  },
  {
   "cell_type": "code",
   "execution_count": 138,
   "metadata": {},
   "outputs": [
    {
     "data": {
      "text/plain": [
       "array([0, 0, 0, ..., 1, 1, 1])"
      ]
     },
     "execution_count": 138,
     "metadata": {},
     "output_type": "execute_result"
    }
   ],
   "source": [
    "y_ideal = np.repeat([0, 1], [num_neg, num_pos])\n",
    "y_ideal"
   ]
  },
  {
   "cell_type": "code",
   "execution_count": 139,
   "metadata": {},
   "outputs": [
    {
     "data": {
      "text/plain": [
       "array([0.00000000e+00, 7.10227273e-04, 1.42045455e-03, ...,\n",
       "       9.98579545e-01, 9.99289773e-01, 1.00000000e+00])"
      ]
     },
     "execution_count": 139,
     "metadata": {},
     "output_type": "execute_result"
    }
   ],
   "source": [
    "y_ideal_pred = np.linspace(0, 1, len(y_val))\n",
    "y_ideal_pred"
   ]
  },
  {
   "cell_type": "code",
   "execution_count": 140,
   "metadata": {},
   "outputs": [
    {
     "data": {
      "text/html": [
       "<div>\n",
       "<style scoped>\n",
       "    .dataframe tbody tr th:only-of-type {\n",
       "        vertical-align: middle;\n",
       "    }\n",
       "\n",
       "    .dataframe tbody tr th {\n",
       "        vertical-align: top;\n",
       "    }\n",
       "\n",
       "    .dataframe thead th {\n",
       "        text-align: right;\n",
       "    }\n",
       "</style>\n",
       "<table border=\"1\" class=\"dataframe\">\n",
       "  <thead>\n",
       "    <tr style=\"text-align: right;\">\n",
       "      <th></th>\n",
       "      <th>threshold</th>\n",
       "      <th>tp</th>\n",
       "      <th>fp</th>\n",
       "      <th>fn</th>\n",
       "      <th>tn</th>\n",
       "      <th>tpr</th>\n",
       "      <th>fpr</th>\n",
       "    </tr>\n",
       "  </thead>\n",
       "  <tbody>\n",
       "    <tr>\n",
       "      <th>0</th>\n",
       "      <td>0.00</td>\n",
       "      <td>386</td>\n",
       "      <td>1023</td>\n",
       "      <td>0</td>\n",
       "      <td>0</td>\n",
       "      <td>1.000000</td>\n",
       "      <td>1.000000</td>\n",
       "    </tr>\n",
       "    <tr>\n",
       "      <th>1</th>\n",
       "      <td>0.01</td>\n",
       "      <td>386</td>\n",
       "      <td>1008</td>\n",
       "      <td>0</td>\n",
       "      <td>15</td>\n",
       "      <td>1.000000</td>\n",
       "      <td>0.985337</td>\n",
       "    </tr>\n",
       "    <tr>\n",
       "      <th>2</th>\n",
       "      <td>0.02</td>\n",
       "      <td>386</td>\n",
       "      <td>994</td>\n",
       "      <td>0</td>\n",
       "      <td>29</td>\n",
       "      <td>1.000000</td>\n",
       "      <td>0.971652</td>\n",
       "    </tr>\n",
       "    <tr>\n",
       "      <th>3</th>\n",
       "      <td>0.03</td>\n",
       "      <td>386</td>\n",
       "      <td>980</td>\n",
       "      <td>0</td>\n",
       "      <td>43</td>\n",
       "      <td>1.000000</td>\n",
       "      <td>0.957967</td>\n",
       "    </tr>\n",
       "    <tr>\n",
       "      <th>4</th>\n",
       "      <td>0.04</td>\n",
       "      <td>386</td>\n",
       "      <td>966</td>\n",
       "      <td>0</td>\n",
       "      <td>57</td>\n",
       "      <td>1.000000</td>\n",
       "      <td>0.944282</td>\n",
       "    </tr>\n",
       "    <tr>\n",
       "      <th>...</th>\n",
       "      <td>...</td>\n",
       "      <td>...</td>\n",
       "      <td>...</td>\n",
       "      <td>...</td>\n",
       "      <td>...</td>\n",
       "      <td>...</td>\n",
       "      <td>...</td>\n",
       "    </tr>\n",
       "    <tr>\n",
       "      <th>96</th>\n",
       "      <td>0.96</td>\n",
       "      <td>57</td>\n",
       "      <td>0</td>\n",
       "      <td>329</td>\n",
       "      <td>1023</td>\n",
       "      <td>0.147668</td>\n",
       "      <td>0.000000</td>\n",
       "    </tr>\n",
       "    <tr>\n",
       "      <th>97</th>\n",
       "      <td>0.97</td>\n",
       "      <td>43</td>\n",
       "      <td>0</td>\n",
       "      <td>343</td>\n",
       "      <td>1023</td>\n",
       "      <td>0.111399</td>\n",
       "      <td>0.000000</td>\n",
       "    </tr>\n",
       "    <tr>\n",
       "      <th>98</th>\n",
       "      <td>0.98</td>\n",
       "      <td>29</td>\n",
       "      <td>0</td>\n",
       "      <td>357</td>\n",
       "      <td>1023</td>\n",
       "      <td>0.075130</td>\n",
       "      <td>0.000000</td>\n",
       "    </tr>\n",
       "    <tr>\n",
       "      <th>99</th>\n",
       "      <td>0.99</td>\n",
       "      <td>15</td>\n",
       "      <td>0</td>\n",
       "      <td>371</td>\n",
       "      <td>1023</td>\n",
       "      <td>0.038860</td>\n",
       "      <td>0.000000</td>\n",
       "    </tr>\n",
       "    <tr>\n",
       "      <th>100</th>\n",
       "      <td>1.00</td>\n",
       "      <td>1</td>\n",
       "      <td>0</td>\n",
       "      <td>385</td>\n",
       "      <td>1023</td>\n",
       "      <td>0.002591</td>\n",
       "      <td>0.000000</td>\n",
       "    </tr>\n",
       "  </tbody>\n",
       "</table>\n",
       "<p>101 rows × 7 columns</p>\n",
       "</div>"
      ],
      "text/plain": [
       "     threshold   tp    fp   fn    tn       tpr       fpr\n",
       "0         0.00  386  1023    0     0  1.000000  1.000000\n",
       "1         0.01  386  1008    0    15  1.000000  0.985337\n",
       "2         0.02  386   994    0    29  1.000000  0.971652\n",
       "3         0.03  386   980    0    43  1.000000  0.957967\n",
       "4         0.04  386   966    0    57  1.000000  0.944282\n",
       "..         ...  ...   ...  ...   ...       ...       ...\n",
       "96        0.96   57     0  329  1023  0.147668  0.000000\n",
       "97        0.97   43     0  343  1023  0.111399  0.000000\n",
       "98        0.98   29     0  357  1023  0.075130  0.000000\n",
       "99        0.99   15     0  371  1023  0.038860  0.000000\n",
       "100       1.00    1     0  385  1023  0.002591  0.000000\n",
       "\n",
       "[101 rows x 7 columns]"
      ]
     },
     "execution_count": 140,
     "metadata": {},
     "output_type": "execute_result"
    }
   ],
   "source": [
    "df_ideal = tpr_fpr_dataframe(y_ideal, y_ideal_pred)\n",
    "df_ideal"
   ]
  },
  {
   "cell_type": "code",
   "execution_count": 141,
   "metadata": {},
   "outputs": [
    {
     "data": {
      "image/png": "[encoded data removed]",
      "text/plain": [
       "<Figure size 640x480 with 1 Axes>"
      ]
     },
     "metadata": {},
     "output_type": "display_data"
    }
   ],
   "source": [
    "plt.plot(df_ideal.threshold, df_ideal['tpr'], label = 'TPR')\n",
    "plt.plot(df_ideal.threshold, df_ideal['fpr'], label = 'FPR')\n",
    "plt.xlabel('Thresholds')\n",
    "plt.legend()\n",
    "plt.show()"
   ]
  },
  {
   "cell_type": "markdown",
   "metadata": {},
   "source": [
    "### Putthing everything together"
   ]
  },
  {
   "cell_type": "code",
   "execution_count": 142,
   "metadata": {},
   "outputs": [
    {
     "data": {
      "image/png": "[encoded data removed]",
      "text/plain": [
       "<Figure size 800x500 with 1 Axes>"
      ]
     },
     "metadata": {},
     "output_type": "display_data"
    }
   ],
   "source": [
    "plt.figure(figsize=(8, 5))\n",
    "\n",
    "plt.plot(df_scores.threshold, df_scores['TPR'], label = 'TPR Our Model')\n",
    "plt.plot(df_scores.threshold, df_scores['FPR'], label = 'FPR Our MOdel')\n",
    "\n",
    "plt.plot(df_ideal.threshold, df_ideal['tpr'], label = 'TPR Ideal Model')\n",
    "plt.plot(df_ideal.threshold, df_ideal['fpr'], label = 'FPR Ideal Model')\n",
    "\n",
    "\n",
    "plt.xlabel('Thresholds')\n",
    "plt.legend()\n",
    "plt.show()"
   ]
  },
  {
   "cell_type": "code",
   "execution_count": 143,
   "metadata": {},
   "outputs": [
    {
     "data": {
      "image/png": "[encoded data removed]",
      "text/plain": [
       "<Figure size 800x500 with 1 Axes>"
      ]
     },
     "metadata": {},
     "output_type": "display_data"
    }
   ],
   "source": [
    "plt.figure(figsize=(8, 5))\n",
    "\n",
    "plt.plot(df_scores['FPR'], df_scores['TPR'], label='Our Model')\n",
    "#plt.plot(df_random['fpr'], df_random['tpr'], label='Random Model')\n",
    "plt.plot([0,1], [0, 1], label='Random Model', linestyle='--')\n",
    "plt.plot(df_ideal['fpr'], df_ideal['tpr'], label='Ideal Model')\n",
    "\n",
    "plt.xlabel('FPR')\n",
    "plt.ylabel('TPR')\n",
    "plt.legend()\n",
    "plt.show()"
   ]
  },
  {
   "cell_type": "markdown",
   "metadata": {},
   "source": [
    "## ROC Curve with Scikit-Learn"
   ]
  },
  {
   "cell_type": "code",
   "execution_count": 144,
   "metadata": {},
   "outputs": [
    {
     "data": {
      "text/plain": [
       "(array([0.00000000e+00, 0.00000000e+00, 0.00000000e+00, 9.77517107e-04,\n",
       "        9.77517107e-04, 1.95503421e-03, 1.95503421e-03, 2.93255132e-03,\n",
       "        2.93255132e-03, 3.91006843e-03, 3.91006843e-03, 4.88758553e-03,\n",
       "        4.88758553e-03, 5.86510264e-03, 5.86510264e-03, 6.84261975e-03,\n",
       "        6.84261975e-03, 7.82013685e-03, 7.82013685e-03, 9.77517107e-03,\n",
       "        9.77517107e-03, 1.07526882e-02, 1.07526882e-02, 1.27077224e-02,\n",
       "        1.27077224e-02, 1.36852395e-02, 1.36852395e-02, 1.46627566e-02,\n",
       "        1.46627566e-02, 1.66177908e-02, 1.66177908e-02, 1.75953079e-02,\n",
       "        1.75953079e-02, 1.85728250e-02, 1.85728250e-02, 1.95503421e-02,\n",
       "        1.95503421e-02, 2.05278592e-02, 2.05278592e-02, 2.15053763e-02,\n",
       "        2.15053763e-02, 2.34604106e-02, 2.34604106e-02, 2.44379277e-02,\n",
       "        2.44379277e-02, 2.54154448e-02, 2.54154448e-02, 2.83479961e-02,\n",
       "        2.83479961e-02, 2.93255132e-02, 2.93255132e-02, 3.03030303e-02,\n",
       "        3.03030303e-02, 3.12805474e-02, 3.12805474e-02, 3.22580645e-02,\n",
       "        3.22580645e-02, 3.32355816e-02, 3.32355816e-02, 3.42130987e-02,\n",
       "        3.42130987e-02, 3.61681329e-02, 3.61681329e-02, 3.81231672e-02,\n",
       "        3.81231672e-02, 3.91006843e-02, 3.91006843e-02, 4.00782014e-02,\n",
       "        4.00782014e-02, 4.20332356e-02, 4.20332356e-02, 4.49657869e-02,\n",
       "        4.49657869e-02, 4.69208211e-02, 4.69208211e-02, 4.78983382e-02,\n",
       "        4.78983382e-02, 4.88758553e-02, 4.88758553e-02, 4.98533724e-02,\n",
       "        4.98533724e-02, 5.18084066e-02, 5.18084066e-02, 5.37634409e-02,\n",
       "        5.37634409e-02, 5.47409580e-02, 5.47409580e-02, 5.57184751e-02,\n",
       "        5.57184751e-02, 5.66959922e-02, 5.66959922e-02, 5.76735093e-02,\n",
       "        5.76735093e-02, 5.96285435e-02, 5.96285435e-02, 6.06060606e-02,\n",
       "        6.06060606e-02, 6.25610948e-02, 6.25610948e-02, 6.54936461e-02,\n",
       "        6.54936461e-02, 6.74486804e-02, 6.74486804e-02, 6.84261975e-02,\n",
       "        6.84261975e-02, 7.03812317e-02, 7.03812317e-02, 7.33137830e-02,\n",
       "        7.33137830e-02, 7.42913001e-02, 7.42913001e-02, 7.52688172e-02,\n",
       "        7.52688172e-02, 7.91788856e-02, 7.91788856e-02, 8.01564027e-02,\n",
       "        8.01564027e-02, 8.30889541e-02, 8.30889541e-02, 8.79765396e-02,\n",
       "        8.79765396e-02, 8.89540567e-02, 8.89540567e-02, 8.99315738e-02,\n",
       "        8.99315738e-02, 9.09090909e-02, 9.09090909e-02, 9.18866080e-02,\n",
       "        9.18866080e-02, 9.67741935e-02, 9.67741935e-02, 9.77517107e-02,\n",
       "        9.77517107e-02, 1.00684262e-01, 1.00684262e-01, 1.01661779e-01,\n",
       "        1.01661779e-01, 1.04594330e-01, 1.04594330e-01, 1.07526882e-01,\n",
       "        1.07526882e-01, 1.09481916e-01, 1.09481916e-01, 1.10459433e-01,\n",
       "        1.10459433e-01, 1.16324536e-01, 1.16324536e-01, 1.19257087e-01,\n",
       "        1.19257087e-01, 1.20234604e-01, 1.20234604e-01, 1.20234604e-01,\n",
       "        1.20234604e-01, 1.21212121e-01, 1.21212121e-01, 1.23167155e-01,\n",
       "        1.23167155e-01, 1.24144673e-01, 1.24144673e-01, 1.30987292e-01,\n",
       "        1.30987292e-01, 1.31964809e-01, 1.31964809e-01, 1.32942326e-01,\n",
       "        1.32942326e-01, 1.40762463e-01, 1.40762463e-01, 1.43695015e-01,\n",
       "        1.43695015e-01, 1.44672532e-01, 1.44672532e-01, 1.45650049e-01,\n",
       "        1.45650049e-01, 1.47605083e-01, 1.47605083e-01, 1.51515152e-01,\n",
       "        1.51515152e-01, 1.54447703e-01, 1.54447703e-01, 1.55425220e-01,\n",
       "        1.55425220e-01, 1.56402737e-01, 1.56402737e-01, 1.58357771e-01,\n",
       "        1.58357771e-01, 1.60312805e-01, 1.60312805e-01, 1.66177908e-01,\n",
       "        1.66177908e-01, 1.69110459e-01, 1.69110459e-01, 1.71065494e-01,\n",
       "        1.71065494e-01, 1.73998045e-01, 1.73998045e-01, 1.74975562e-01,\n",
       "        1.74975562e-01, 1.77908113e-01, 1.77908113e-01, 1.79863148e-01,\n",
       "        1.79863148e-01, 1.80840665e-01, 1.80840665e-01, 1.84750733e-01,\n",
       "        1.84750733e-01, 1.87683284e-01, 1.87683284e-01, 1.88660802e-01,\n",
       "        1.88660802e-01, 1.96480938e-01, 1.96480938e-01, 1.99413490e-01,\n",
       "        1.99413490e-01, 2.00391007e-01, 2.00391007e-01, 2.01368524e-01,\n",
       "        2.01368524e-01, 2.02346041e-01, 2.02346041e-01, 2.05278592e-01,\n",
       "        2.05278592e-01, 2.11143695e-01, 2.11143695e-01, 2.15053763e-01,\n",
       "        2.15053763e-01, 2.16031281e-01, 2.16031281e-01, 2.18963832e-01,\n",
       "        2.18963832e-01, 2.21896383e-01, 2.21896383e-01, 2.23851417e-01,\n",
       "        2.23851417e-01, 2.24828935e-01, 2.24828935e-01, 2.28739003e-01,\n",
       "        2.28739003e-01, 2.29716520e-01, 2.29716520e-01, 2.30694037e-01,\n",
       "        2.30694037e-01, 2.31671554e-01, 2.31671554e-01, 2.37536657e-01,\n",
       "        2.37536657e-01, 2.40469208e-01, 2.40469208e-01, 2.41446725e-01,\n",
       "        2.41446725e-01, 2.43401760e-01, 2.43401760e-01, 2.48289345e-01,\n",
       "        2.48289345e-01, 2.51221896e-01, 2.51221896e-01, 2.52199413e-01,\n",
       "        2.52199413e-01, 2.57086999e-01, 2.57086999e-01, 2.61974585e-01,\n",
       "        2.61974585e-01, 2.62952102e-01, 2.62952102e-01, 2.63929619e-01,\n",
       "        2.63929619e-01, 2.74682307e-01, 2.74682307e-01, 2.79569892e-01,\n",
       "        2.79569892e-01, 2.82502444e-01, 2.82502444e-01, 2.83479961e-01,\n",
       "        2.83479961e-01, 2.84457478e-01, 2.84457478e-01, 2.87390029e-01,\n",
       "        2.87390029e-01, 2.88367546e-01, 2.88367546e-01, 2.91300098e-01,\n",
       "        2.91300098e-01, 2.93255132e-01, 2.93255132e-01, 2.97165200e-01,\n",
       "        2.97165200e-01, 3.02052786e-01, 3.02052786e-01, 3.03030303e-01,\n",
       "        3.03030303e-01, 3.05962854e-01, 3.05962854e-01, 3.08895406e-01,\n",
       "        3.08895406e-01, 3.10850440e-01, 3.10850440e-01, 3.14760508e-01,\n",
       "        3.14760508e-01, 3.21603128e-01, 3.21603128e-01, 3.24535679e-01,\n",
       "        3.24535679e-01, 3.27468231e-01, 3.27468231e-01, 3.33333333e-01,\n",
       "        3.33333333e-01, 3.38220919e-01, 3.38220919e-01, 3.42130987e-01,\n",
       "        3.42130987e-01, 3.52883675e-01, 3.52883675e-01, 3.56793744e-01,\n",
       "        3.56793744e-01, 3.58748778e-01, 3.58748778e-01, 3.64613881e-01,\n",
       "        3.64613881e-01, 3.66568915e-01, 3.66568915e-01, 3.68523949e-01,\n",
       "        3.68523949e-01, 3.71456500e-01, 3.71456500e-01, 3.74389052e-01,\n",
       "        3.74389052e-01, 3.78299120e-01, 3.78299120e-01, 3.86119257e-01,\n",
       "        3.86119257e-01, 3.93939394e-01, 3.93939394e-01, 4.15444770e-01,\n",
       "        4.15444770e-01, 4.20332356e-01, 4.20332356e-01, 4.23264907e-01,\n",
       "        4.23264907e-01, 4.24242424e-01, 4.24242424e-01, 4.25219941e-01,\n",
       "        4.25219941e-01, 4.36950147e-01, 4.36950147e-01, 4.42815249e-01,\n",
       "        4.42815249e-01, 4.48680352e-01, 4.48680352e-01, 4.50635386e-01,\n",
       "        4.50635386e-01, 4.61388074e-01, 4.61388074e-01, 4.64320626e-01,\n",
       "        4.64320626e-01, 4.67253177e-01, 4.67253177e-01, 4.72140762e-01,\n",
       "        4.72140762e-01, 4.95601173e-01, 4.95601173e-01, 4.97556207e-01,\n",
       "        4.97556207e-01, 5.21994135e-01, 5.21994135e-01, 5.54252199e-01,\n",
       "        5.54252199e-01, 5.58162268e-01, 5.58162268e-01, 5.59139785e-01,\n",
       "        5.59139785e-01, 5.78690127e-01, 5.78690127e-01, 5.82600196e-01,\n",
       "        5.82600196e-01, 6.25610948e-01, 6.25610948e-01, 6.30498534e-01,\n",
       "        6.30498534e-01, 6.39296188e-01, 6.39296188e-01, 6.40273705e-01,\n",
       "        6.40273705e-01, 6.52003910e-01, 6.52003910e-01, 6.60801564e-01,\n",
       "        6.60801564e-01, 6.87194526e-01, 6.87194526e-01, 6.93059629e-01,\n",
       "        6.93059629e-01, 7.00879765e-01, 7.00879765e-01, 7.16520039e-01,\n",
       "        7.16520039e-01, 7.84946237e-01, 7.84946237e-01, 8.70967742e-01,\n",
       "        8.70967742e-01, 9.01270772e-01, 9.01270772e-01, 1.00000000e+00]),\n",
       " array([0.        , 0.00259067, 0.01813472, 0.01813472, 0.03367876,\n",
       "        0.03367876, 0.04663212, 0.04663212, 0.05440415, 0.05440415,\n",
       "        0.05958549, 0.05958549, 0.06735751, 0.06735751, 0.07772021,\n",
       "        0.07772021, 0.0880829 , 0.0880829 , 0.12176166, 0.12176166,\n",
       "        0.13212435, 0.13212435, 0.16062176, 0.16062176, 0.16321244,\n",
       "        0.16321244, 0.16580311, 0.16580311, 0.17875648, 0.17875648,\n",
       "        0.18134715, 0.18134715, 0.18393782, 0.18393782, 0.19430052,\n",
       "        0.19430052, 0.19689119, 0.19689119, 0.20207254, 0.20207254,\n",
       "        0.21243523, 0.21243523, 0.21761658, 0.21761658, 0.23834197,\n",
       "        0.23834197, 0.24870466, 0.24870466, 0.2746114 , 0.2746114 ,\n",
       "        0.29015544, 0.29015544, 0.29533679, 0.29533679, 0.29792746,\n",
       "        0.29792746, 0.30051813, 0.30051813, 0.30829016, 0.30829016,\n",
       "        0.31606218, 0.31606218, 0.33937824, 0.33937824, 0.34196891,\n",
       "        0.34196891, 0.34974093, 0.34974093, 0.35233161, 0.35233161,\n",
       "        0.35751295, 0.35751295, 0.36528497, 0.36528497, 0.36787565,\n",
       "        0.36787565, 0.38082902, 0.38082902, 0.38601036, 0.38601036,\n",
       "        0.38860104, 0.38860104, 0.39119171, 0.39119171, 0.39637306,\n",
       "        0.39637306, 0.39896373, 0.39896373, 0.40414508, 0.40414508,\n",
       "        0.41709845, 0.41709845, 0.42487047, 0.42487047, 0.44559585,\n",
       "        0.44559585, 0.45336788, 0.45336788, 0.45595855, 0.45595855,\n",
       "        0.45854922, 0.45854922, 0.4611399 , 0.4611399 , 0.46632124,\n",
       "        0.46632124, 0.46891192, 0.46891192, 0.47150259, 0.47150259,\n",
       "        0.47409326, 0.47409326, 0.47927461, 0.47927461, 0.49481865,\n",
       "        0.49481865, 0.5       , 0.5       , 0.50259067, 0.50259067,\n",
       "        0.50518135, 0.50518135, 0.51036269, 0.51036269, 0.51295337,\n",
       "        0.51295337, 0.53108808, 0.53108808, 0.53367876, 0.53367876,\n",
       "        0.5388601 , 0.5388601 , 0.54404145, 0.54404145, 0.54663212,\n",
       "        0.54663212, 0.5492228 , 0.5492228 , 0.55181347, 0.55181347,\n",
       "        0.55699482, 0.55699482, 0.55958549, 0.55958549, 0.56217617,\n",
       "        0.56217617, 0.56476684, 0.56476684, 0.56735751, 0.56735751,\n",
       "        0.56994819, 0.57512953, 0.57772021, 0.57772021, 0.58031088,\n",
       "        0.58031088, 0.58290155, 0.58290155, 0.5880829 , 0.5880829 ,\n",
       "        0.59326425, 0.59326425, 0.59585492, 0.59585492, 0.60103627,\n",
       "        0.60103627, 0.60362694, 0.60362694, 0.60621762, 0.60621762,\n",
       "        0.60880829, 0.60880829, 0.62435233, 0.62435233, 0.62694301,\n",
       "        0.62694301, 0.62953368, 0.62953368, 0.63471503, 0.63471503,\n",
       "        0.6373057 , 0.6373057 , 0.63989637, 0.63989637, 0.64248705,\n",
       "        0.64248705, 0.64507772, 0.64507772, 0.64766839, 0.64766839,\n",
       "        0.65025907, 0.65025907, 0.65284974, 0.65284974, 0.65544041,\n",
       "        0.65544041, 0.66321244, 0.66321244, 0.66839378, 0.66839378,\n",
       "        0.67098446, 0.67098446, 0.67357513, 0.67357513, 0.6761658 ,\n",
       "        0.6761658 , 0.67875648, 0.67875648, 0.6865285 , 0.6865285 ,\n",
       "        0.69430052, 0.69430052, 0.69689119, 0.69689119, 0.69948187,\n",
       "        0.69948187, 0.70466321, 0.70466321, 0.70725389, 0.70725389,\n",
       "        0.70984456, 0.70984456, 0.71243523, 0.71243523, 0.71502591,\n",
       "        0.71502591, 0.71761658, 0.71761658, 0.72020725, 0.72020725,\n",
       "        0.72279793, 0.72279793, 0.7253886 , 0.7253886 , 0.72797927,\n",
       "        0.72797927, 0.73316062, 0.73316062, 0.7357513 , 0.7357513 ,\n",
       "        0.74093264, 0.74093264, 0.74611399, 0.74611399, 0.75388601,\n",
       "        0.75388601, 0.75647668, 0.75647668, 0.75906736, 0.75906736,\n",
       "        0.76165803, 0.76165803, 0.7642487 , 0.7642487 , 0.77202073,\n",
       "        0.77202073, 0.7746114 , 0.7746114 , 0.77720207, 0.77720207,\n",
       "        0.77979275, 0.77979275, 0.78238342, 0.78238342, 0.78497409,\n",
       "        0.78497409, 0.79015544, 0.79015544, 0.79274611, 0.79274611,\n",
       "        0.79533679, 0.79533679, 0.79792746, 0.79792746, 0.80051813,\n",
       "        0.80051813, 0.80310881, 0.80310881, 0.80829016, 0.80829016,\n",
       "        0.81088083, 0.81088083, 0.81606218, 0.81606218, 0.81865285,\n",
       "        0.81865285, 0.82124352, 0.82124352, 0.82901554, 0.82901554,\n",
       "        0.83160622, 0.83160622, 0.83419689, 0.83419689, 0.83678756,\n",
       "        0.83678756, 0.83937824, 0.83937824, 0.84196891, 0.84196891,\n",
       "        0.84455959, 0.84455959, 0.84974093, 0.84974093, 0.85751295,\n",
       "        0.85751295, 0.86010363, 0.86010363, 0.8626943 , 0.8626943 ,\n",
       "        0.86528497, 0.86528497, 0.87305699, 0.87305699, 0.87564767,\n",
       "        0.87564767, 0.88082902, 0.88082902, 0.88341969, 0.88341969,\n",
       "        0.88601036, 0.88601036, 0.88860104, 0.88860104, 0.89119171,\n",
       "        0.89119171, 0.89378238, 0.89378238, 0.89637306, 0.89637306,\n",
       "        0.89896373, 0.89896373, 0.9015544 , 0.9015544 , 0.90414508,\n",
       "        0.90414508, 0.90673575, 0.90673575, 0.90932642, 0.90932642,\n",
       "        0.9119171 , 0.9119171 , 0.91709845, 0.91709845, 0.92227979,\n",
       "        0.92227979, 0.92487047, 0.92487047, 0.92746114, 0.92746114,\n",
       "        0.93005181, 0.93005181, 0.93264249, 0.93264249, 0.93782383,\n",
       "        0.93782383, 0.94041451, 0.94041451, 0.94300518, 0.94300518,\n",
       "        0.94559585, 0.94559585, 0.94818653, 0.94818653, 0.9507772 ,\n",
       "        0.9507772 , 0.95336788, 0.95336788, 0.95595855, 0.95595855,\n",
       "        0.95854922, 0.95854922, 0.9611399 , 0.9611399 , 0.96373057,\n",
       "        0.96373057, 0.96891192, 0.96891192, 0.97409326, 0.97409326,\n",
       "        0.97668394, 0.97668394, 0.97927461, 0.97927461, 0.98186528,\n",
       "        0.98186528, 0.98445596, 0.98445596, 0.98704663, 0.98704663,\n",
       "        0.98963731, 0.98963731, 0.99222798, 0.99222798, 0.99481865,\n",
       "        0.99481865, 0.99740933, 0.99740933, 1.        , 1.        ]),\n",
       " array([       inf, 0.83928264, 0.80985668, 0.80800738, 0.80108547,\n",
       "        0.80007932, 0.78271012, 0.78174745, 0.77590311, 0.7749405 ,\n",
       "        0.77425273, 0.77143538, 0.76928553, 0.76754171, 0.76488727,\n",
       "        0.75960652, 0.74832904, 0.74794746, 0.73275067, 0.72999027,\n",
       "        0.72791628, 0.72770825, 0.71731923, 0.71501909, 0.71394619,\n",
       "        0.71069765, 0.70978942, 0.70959178, 0.70686484, 0.70536711,\n",
       "        0.70513887, 0.70464108, 0.704494  , 0.70417866, 0.70189868,\n",
       "        0.70076838, 0.70001616, 0.69919664, 0.69667736, 0.69645052,\n",
       "        0.69457486, 0.69434374, 0.69289833, 0.69268829, 0.68608397,\n",
       "        0.6859843 , 0.67652241, 0.67441409, 0.66763966, 0.66662557,\n",
       "        0.66128976, 0.66098355, 0.66079432, 0.65509185, 0.65464591,\n",
       "        0.65436754, 0.65405041, 0.65365739, 0.65131221, 0.64813715,\n",
       "        0.64428408, 0.64251576, 0.63323729, 0.63280301, 0.63247494,\n",
       "        0.63085797, 0.62963884, 0.62941391, 0.6290733 , 0.62804177,\n",
       "        0.62737091, 0.62581826, 0.62027764, 0.61905642, 0.61753144,\n",
       "        0.61504701, 0.60829786, 0.60487928, 0.60475886, 0.60466173,\n",
       "        0.60325929, 0.60223414, 0.59983803, 0.59695468, 0.59660561,\n",
       "        0.59592495, 0.59500317, 0.59475351, 0.5935649 , 0.59301461,\n",
       "        0.59090535, 0.59089925, 0.58965168, 0.58727921, 0.57971052,\n",
       "        0.57937815, 0.57518732, 0.573708  , 0.57367647, 0.57085037,\n",
       "        0.56980214, 0.56969096, 0.56931158, 0.56903118, 0.56813569,\n",
       "        0.56747471, 0.56573093, 0.56210206, 0.56165735, 0.56035327,\n",
       "        0.55896558, 0.55869984, 0.55656687, 0.54900125, 0.54509134,\n",
       "        0.54349549, 0.5424705 , 0.54175451, 0.54157589, 0.53517216,\n",
       "        0.53424656, 0.53143339, 0.52979945, 0.52851802, 0.52631239,\n",
       "        0.52564474, 0.51997668, 0.51728998, 0.51644504, 0.51237347,\n",
       "        0.50834568, 0.50528213, 0.50153041, 0.49982414, 0.49965448,\n",
       "        0.49873899, 0.49814578, 0.49463055, 0.49456854, 0.49059593,\n",
       "        0.48666462, 0.48542423, 0.48434713, 0.48312521, 0.48129978,\n",
       "        0.47444725, 0.47333974, 0.46948666, 0.46844281, 0.46584772,\n",
       "        0.46197704, 0.46182602, 0.46175024, 0.46167501, 0.4614193 ,\n",
       "        0.45855457, 0.45836326, 0.45623224, 0.45449379, 0.45131731,\n",
       "        0.45065456, 0.45023191, 0.44999981, 0.44975466, 0.44941182,\n",
       "        0.44395622, 0.44392519, 0.44102812, 0.44079182, 0.43895405,\n",
       "        0.43675557, 0.43621784, 0.43219009, 0.42891531, 0.42859013,\n",
       "        0.42429907, 0.42316283, 0.42009726, 0.41629135, 0.4145708 ,\n",
       "        0.41050477, 0.40904416, 0.40868928, 0.40847819, 0.40832972,\n",
       "        0.40684882, 0.40665711, 0.39763248, 0.39734487, 0.39605854,\n",
       "        0.39579016, 0.39320809, 0.39282534, 0.3917475 , 0.39005673,\n",
       "        0.38981107, 0.38954753, 0.38734329, 0.3858673 , 0.38442367,\n",
       "        0.38246787, 0.38151329, 0.38091508, 0.37739549, 0.37723409,\n",
       "        0.37547096, 0.37483268, 0.37377978, 0.37263573, 0.36284093,\n",
       "        0.3599485 , 0.35648836, 0.355689  , 0.35497357, 0.35260316,\n",
       "        0.35209457, 0.35109091, 0.3500663 , 0.34858342, 0.34706265,\n",
       "        0.34511285, 0.33800544, 0.33722527, 0.33367655, 0.33212374,\n",
       "        0.33055844, 0.32483117, 0.32269884, 0.32169565, 0.31984266,\n",
       "        0.31901269, 0.31334216, 0.31098265, 0.31085505, 0.30799072,\n",
       "        0.30477615, 0.30396496, 0.30288657, 0.30225225, 0.30211703,\n",
       "        0.29924401, 0.29803339, 0.29568445, 0.29126335, 0.29108021,\n",
       "        0.28935605, 0.28844403, 0.2884349 , 0.28836644, 0.28594987,\n",
       "        0.28529882, 0.2823007 , 0.28135109, 0.27974099, 0.27938131,\n",
       "        0.27905856, 0.27892074, 0.27732928, 0.27696411, 0.27363021,\n",
       "        0.27324205, 0.2724636 , 0.27195647, 0.27151559, 0.27120662,\n",
       "        0.26069898, 0.25815638, 0.25414661, 0.25367673, 0.25171353,\n",
       "        0.25164852, 0.25150492, 0.25104943, 0.25090773, 0.25038384,\n",
       "        0.24908186, 0.24812392, 0.24775408, 0.24692556, 0.24550652,\n",
       "        0.24444078, 0.24370063, 0.24253307, 0.24005579, 0.2397791 ,\n",
       "        0.23309179, 0.23294545, 0.23292829, 0.23183752, 0.23101156,\n",
       "        0.22720622, 0.22625155, 0.22614358, 0.2234777 , 0.22300408,\n",
       "        0.22119359, 0.21890572, 0.21537721, 0.21417428, 0.21335505,\n",
       "        0.21304122, 0.21205903, 0.21192369, 0.21103267, 0.20960553,\n",
       "        0.20718799, 0.20714635, 0.20435623, 0.20378811, 0.1968867 ,\n",
       "        0.19637187, 0.19393063, 0.19256067, 0.19158292, 0.19116694,\n",
       "        0.18924386, 0.18810071, 0.18582612, 0.18520622, 0.18472922,\n",
       "        0.18358815, 0.18273182, 0.18249981, 0.18141251, 0.18062392,\n",
       "        0.17866983, 0.17823511, 0.17463767, 0.17362133, 0.1670668 ,\n",
       "        0.16679185, 0.15844557, 0.15808497, 0.15437827, 0.1543198 ,\n",
       "        0.15362229, 0.15229702, 0.1518288 , 0.15043472, 0.15026278,\n",
       "        0.14794082, 0.14460613, 0.1424691 , 0.14053163, 0.13948222,\n",
       "        0.13794002, 0.13756387, 0.13625449, 0.13581579, 0.13297888,\n",
       "        0.13245028, 0.13132838, 0.1311143 , 0.12972122, 0.12833531,\n",
       "        0.12683377, 0.12655293, 0.12132023, 0.12103558, 0.12040094,\n",
       "        0.12033743, 0.10799786, 0.10711975, 0.09482517, 0.09474972,\n",
       "        0.09295932, 0.0928739 , 0.09251594, 0.09230727, 0.08507623,\n",
       "        0.08486931, 0.0835556 , 0.0833975 , 0.07041751, 0.07017469,\n",
       "        0.06879496, 0.0680445 , 0.06593989, 0.06547227, 0.06416935,\n",
       "        0.06305883, 0.05625112, 0.05559513, 0.05344128, 0.05320781,\n",
       "        0.04590429, 0.04573433, 0.04329751, 0.04304882, 0.03949322,\n",
       "        0.03931266, 0.03656732, 0.0363732 , 0.02295724, 0.02294573,\n",
       "        0.0127932 , 0.01261643, 0.00927168, 0.00923144, 0.00123835]))"
      ]
     },
     "execution_count": 144,
     "metadata": {},
     "output_type": "execute_result"
    }
   ],
   "source": [
    "roc_curve(y_val, y_pred)"
   ]
  },
  {
   "cell_type": "code",
   "execution_count": 145,
   "metadata": {},
   "outputs": [],
   "source": [
    "fpr, tpr, thresholds = roc_curve(y_val, y_pred)"
   ]
  },
  {
   "cell_type": "code",
   "execution_count": 146,
   "metadata": {},
   "outputs": [
    {
     "data": {
      "image/png": "[encoded data removed]",
      "text/plain": [
       "<Figure size 800x500 with 1 Axes>"
      ]
     },
     "metadata": {},
     "output_type": "display_data"
    }
   ],
   "source": [
    "plt.figure(figsize=(8,5))\n",
    "\n",
    "plt.plot(fpr, tpr, label = 'Our Model')\n",
    "plt.plot([0, 1], [0, 1], label='Random Model', linestyle='--')\n",
    "\n",
    "plt.xlabel('FPR')\n",
    "plt.ylabel('TPR')\n",
    "\n",
    "plt.legend()\n",
    "plt.show()"
   ]
  },
  {
   "cell_type": "markdown",
   "metadata": {},
   "source": [
    "## AUC - ROC\n",
    "\n",
    "El Área bajo las curvas ROC puede decirnos lo bueno que es nuestro modelo con un único valor. \n",
    "\n",
    "El AUROC de un modelo aleatorio es 0,5, mientras que para uno ideal es 1. En otras palabras, el AUC puede interpretarse como la probabilidad de que un ejemplo positivo seleccionado al azar tenga una puntuación mayor que un ejemplo negativo seleccionado al azar."
   ]
  },
  {
   "cell_type": "code",
   "execution_count": 147,
   "metadata": {},
   "outputs": [
    {
     "data": {
      "text/plain": [
       "0.8438707651477165"
      ]
     },
     "execution_count": 147,
     "metadata": {},
     "output_type": "execute_result"
    }
   ],
   "source": [
    "auc(fpr, tpr)"
   ]
  },
  {
   "cell_type": "code",
   "execution_count": 148,
   "metadata": {},
   "outputs": [
    {
     "data": {
      "text/plain": [
       "0.9999430203759136"
      ]
     },
     "execution_count": 148,
     "metadata": {},
     "output_type": "execute_result"
    }
   ],
   "source": [
    "auc(df_ideal.fpr, df_ideal.tpr)"
   ]
  },
  {
   "cell_type": "code",
   "execution_count": 149,
   "metadata": {},
   "outputs": [
    {
     "data": {
      "text/plain": [
       "0.8438707651477165"
      ]
     },
     "execution_count": 149,
     "metadata": {},
     "output_type": "execute_result"
    }
   ],
   "source": [
    "roc_auc_score(y_val, y_pred)"
   ]
  },
  {
   "cell_type": "markdown",
   "metadata": {},
   "source": [
    "el AUC puede interpretarse como la probabilidad de que un ejemplo positivo seleccionado al azar tenga una puntuación mayor que un ejemplo negativo seleccionado al azar:"
   ]
  },
  {
   "cell_type": "code",
   "execution_count": 150,
   "metadata": {},
   "outputs": [
    {
     "data": {
      "text/plain": [
       "0.84582"
      ]
     },
     "execution_count": 150,
     "metadata": {},
     "output_type": "execute_result"
    }
   ],
   "source": [
    "neg = y_pred[y_val == 0]\n",
    "pos = y_pred[y_val == 1]\n",
    "\n",
    "n = 100000\n",
    "success = 0\n",
    "\n",
    "for i in range(n):\n",
    "    pos_ind = random.randint(0, len(pos)-1)\n",
    "    neg_ind = random.randint(0, len(neg)-1)\n",
    "    \n",
    "    if pos[pos_ind] > neg[neg_ind]:\n",
    "        success = success + 1\n",
    "        \n",
    "success / n "
   ]
  },
  {
   "cell_type": "markdown",
   "metadata": {},
   "source": [
    "Mismo ejemplo anterior usando numpy"
   ]
  },
  {
   "cell_type": "code",
   "execution_count": 151,
   "metadata": {},
   "outputs": [
    {
     "data": {
      "text/plain": [
       "0.843"
      ]
     },
     "execution_count": 151,
     "metadata": {},
     "output_type": "execute_result"
    }
   ],
   "source": [
    "n = 100000\n",
    "pos_ind = np.random.randint(0, len(pos), size = n)\n",
    "neg_ind = np.random.randint(0, len(neg), size = n)\n",
    "(pos[pos_ind] > neg[neg_ind]).mean()"
   ]
  },
  {
   "cell_type": "markdown",
   "metadata": {},
   "source": [
    "## Cross-Validation\n",
    "\n",
    "Las validaciones cruzadas consisten en evaluar el mismo modelo en distintos subconjuntos de un conjunto de datos, obteniendo la predicción media y la dispersión dentro de las predicciones. Este método se aplica en el paso de ajuste de parámetros, que es el proceso de selección del mejor parámetro. \n",
    "\n",
    "En este algoritmo, el conjunto de datos de entrenamiento completo se divide en k particiones, entrenamos el modelo en k-1 particiones de este conjunto de datos y lo evaluamos en el subconjunto restante. A continuación, terminamos evaluando el modelo en todos los k pliegues, y calculamos la métrica de evaluación media para todos los pliegues. \n",
    "\n",
    "En general, si el conjunto de datos es grande, deberíamos utilizar la estrategia del conjunto de datos de validación hold-out. Por otro lado, si el conjunto de datos es pequeño o queremos conocer la desviación estándar del modelo en los distintos pliegues, podemos utilizar el enfoque de validación cruzada."
   ]
  },
  {
   "cell_type": "code",
   "execution_count": 171,
   "metadata": {},
   "outputs": [],
   "source": [
    "def train(df_train, y_train, C=1.0):\n",
    "    dicts = df_train[categorical + numerical].to_dict(orient='records')\n",
    "\n",
    "    dv = DictVectorizer(sparse=False)\n",
    "    X_train = dv.fit_transform(dicts)\n",
    "\n",
    "    model = LogisticRegression(C=C, max_iter=1000)\n",
    "    model.fit(X_train, y_train)\n",
    "    \n",
    "    return dv, model"
   ]
  },
  {
   "cell_type": "code",
   "execution_count": 172,
   "metadata": {},
   "outputs": [],
   "source": [
    "dv, model = train(df_train, y_train, C=0.001)"
   ]
  },
  {
   "cell_type": "code",
   "execution_count": 173,
   "metadata": {},
   "outputs": [],
   "source": [
    "def predict(df, dv, model):\n",
    "    dicts = df[categorical + numerical].to_dict(orient='records')\n",
    "\n",
    "    X = dv.transform(dicts)\n",
    "    y_pred = model.predict_proba(X)[:, 1]\n",
    "\n",
    "    return y_pred"
   ]
  },
  {
   "cell_type": "code",
   "execution_count": 174,
   "metadata": {},
   "outputs": [],
   "source": [
    "y_pred = predict(df_val, dv, model)"
   ]
  },
  {
   "cell_type": "code",
   "execution_count": 165,
   "metadata": {},
   "outputs": [
    {
     "data": {
      "text/plain": [
       "array([0.05800361, 0.02608922, 0.00628548, ..., 0.59831934, 0.45063944,\n",
       "       0.06397979])"
      ]
     },
     "execution_count": 165,
     "metadata": {},
     "output_type": "execute_result"
    }
   ],
   "source": [
    "y_pred"
   ]
  },
  {
   "cell_type": "code",
   "execution_count": 177,
   "metadata": {},
   "outputs": [
    {
     "data": {
      "application/vnd.jupyter.widget-view+json": {
       "model_id": "de65e30fa44048b2b237dc9faf38b588",
       "version_major": 2,
       "version_minor": 0
      },
      "text/plain": [
       "  0%|          | 0/7 [00:00<?, ?it/s]"
      ]
     },
     "metadata": {},
     "output_type": "display_data"
    },
    {
     "name": "stdout",
     "output_type": "stream",
     "text": [
      "C=0.001 0.825 +- 0.009\n",
      "C=0.01 0.840 +- 0.008\n",
      "C=0.1 0.842 +- 0.007\n",
      "C=0.5 0.842 +- 0.007\n",
      "C=1 0.842 +- 0.007\n",
      "C=5 0.842 +- 0.007\n",
      "C=10 0.842 +- 0.007\n"
     ]
    }
   ],
   "source": [
    "n_splits = 5\n",
    "\n",
    "for C in tqdm([0.001, 0.01, 0.1, 0.5, 1, 5, 10]):\n",
    "    kfold = KFold(n_splits=n_splits, shuffle=True, random_state=1)\n",
    "\n",
    "    scores = []\n",
    "\n",
    "    for train_idx, val_idx in kfold.split(df_full_train):\n",
    "        df_train = df_full_train.iloc[train_idx]\n",
    "        df_val = df_full_train.iloc[val_idx]\n",
    "\n",
    "        y_train = df_train.churn.values\n",
    "        y_val = df_val.churn.values\n",
    "\n",
    "        dv, model = train(df_train, y_train, C=C)\n",
    "        y_pred = predict(df_val, dv, model)\n",
    "\n",
    "        auc = roc_auc_score(y_val, y_pred)\n",
    "        scores.append(auc)\n",
    "\n",
    "    print('C=%s %.3f +- %.3f' % (C, np.mean(scores), np.std(scores)))"
   ]
  },
  {
   "cell_type": "markdown",
   "metadata": {},
   "source": [
    "### Train Final Model"
   ]
  },
  {
   "cell_type": "code",
   "execution_count": 178,
   "metadata": {},
   "outputs": [
    {
     "data": {
      "text/plain": [
       "0.8584194589792757"
      ]
     },
     "execution_count": 178,
     "metadata": {},
     "output_type": "execute_result"
    }
   ],
   "source": [
    "dv, model = train(df_full_train, df_full_train.churn.values, C=1.0)\n",
    "y_pred = predict(df_test, dv, model)\n",
    "\n",
    "auc = roc_auc_score(y_test, y_pred)\n",
    "auc"
   ]
  },
  {
   "cell_type": "code",
   "execution_count": null,
   "metadata": {},
   "outputs": [],
   "source": []
  }
 ],
 "metadata": {
  "kernelspec": {
   "display_name": "ml-zoomcamp",
   "language": "python",
   "name": "python3"
  },
  "language_info": {
   "codemirror_mode": {
    "name": "ipython",
    "version": 3
   },
   "file_extension": ".py",
   "mimetype": "text/x-python",
   "name": "python",
   "nbconvert_exporter": "python",
   "pygments_lexer": "ipython3",
   "version": "3.9.6"
  }
 },
 "nbformat": 4,
 "nbformat_minor": 2
}
